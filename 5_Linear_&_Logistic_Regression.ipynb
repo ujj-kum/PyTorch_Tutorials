{
  "nbformat": 4,
  "nbformat_minor": 0,
  "metadata": {
    "colab": {
      "provenance": []
    },
    "kernelspec": {
      "name": "python3",
      "display_name": "Python 3"
    },
    "language_info": {
      "name": "python"
    }
  },
  "cells": [
    {
      "cell_type": "code",
      "execution_count": null,
      "metadata": {
        "id": "zftQJFUncBjE"
      },
      "outputs": [],
      "source": [
        "import torch\n",
        "import torch.nn as nn\n",
        "import numpy as np\n",
        "import matplotlib.pyplot as plt\n",
        "from sklearn import datasets"
      ]
    },
    {
      "cell_type": "code",
      "source": [
        "X, y = datasets.make_regression(n_samples=100, n_features=1, noise=20, random_state=1)\n",
        "X = torch.from_numpy(X.astype(np.float32))\n",
        "y = torch.from_numpy(y.astype(np.float32))\n",
        "\n",
        "print(\"Before reshaping, \", X.shape, y.shape)\n",
        "y = y.reshape(y.shape[0], -1)\n",
        "print(\"After reshaping, \", X.shape, y.shape)"
      ],
      "metadata": {
        "colab": {
          "base_uri": "https://localhost:8080/"
        },
        "id": "uBsxbnRPcXBZ",
        "outputId": "0bb6b03d-d1db-4d20-91fb-76753f08d073"
      },
      "execution_count": null,
      "outputs": [
        {
          "output_type": "stream",
          "name": "stdout",
          "text": [
            "Before reshaping,  torch.Size([100, 1]) torch.Size([100])\n",
            "After reshaping,  torch.Size([100, 1]) torch.Size([100, 1])\n"
          ]
        }
      ]
    },
    {
      "cell_type": "code",
      "source": [
        "n_samples, n_features = X.shape\n",
        "\n",
        "model = nn.Linear(in_features=n_features, out_features=1)\n",
        "\n",
        "n_epochs=100\n",
        "lr = 0.01\n",
        "# Loss\n",
        "criterion = nn.MSELoss()\n",
        "# Optimizer\n",
        "optimizer = torch.optim.SGD(params=model.parameters(), lr=lr)\n",
        "\n",
        "for epoch in range(n_epochs):\n",
        "    # Fwd pass\n",
        "    y_pred = model(X)\n",
        "    # Calculate loss\n",
        "    loss = criterion(y_pred, y)\n",
        "    # Backward pass\n",
        "    loss.backward()\n",
        "    # Weights update\n",
        "    optimizer.step()\n",
        "    # Emptying gradients\n",
        "    optimizer.zero_grad()\n",
        "\n",
        "    if epoch%10==0:\n",
        "        print(f\"Epoch {epoch}/{n_epochs} loss={loss.item():.5f}\")\n"
      ],
      "metadata": {
        "colab": {
          "base_uri": "https://localhost:8080/"
        },
        "id": "zIuiZhbXc1z2",
        "outputId": "9e35963b-fc2e-4c75-a2d3-1cd3e7ff1be1"
      },
      "execution_count": null,
      "outputs": [
        {
          "output_type": "stream",
          "name": "stdout",
          "text": [
            "Epoch 0/100 loss=5802.54883\n",
            "Epoch 10/100 loss=4294.10205\n",
            "Epoch 20/100 loss=3204.50024\n",
            "Epoch 30/100 loss=2416.51074\n",
            "Epoch 40/100 loss=1846.01562\n",
            "Epoch 50/100 loss=1432.56104\n",
            "Epoch 60/100 loss=1132.63477\n",
            "Epoch 70/100 loss=914.87311\n",
            "Epoch 80/100 loss=756.63977\n",
            "Epoch 90/100 loss=641.57684\n"
          ]
        }
      ]
    },
    {
      "cell_type": "markdown",
      "source": [
        "Plotting values"
      ],
      "metadata": {
        "id": "1ycHQ8CfgVuE"
      }
    },
    {
      "cell_type": "code",
      "source": [
        "# We don't want to perform operations on computation graph now\n",
        "predicted = model(X).detach()\n",
        "\n",
        "plt.plot(X, y, 'ro')\n",
        "plt.plot(X, predicted, 'b')\n",
        "plt.show()"
      ],
      "metadata": {
        "id": "ogBduIbDgYCd",
        "colab": {
          "base_uri": "https://localhost:8080/",
          "height": 430
        },
        "outputId": "1922f85c-3e40-4f3b-db3a-18f9e924b699"
      },
      "execution_count": null,
      "outputs": [
        {
          "output_type": "display_data",
          "data": {
            "text/plain": [
              "<Figure size 640x480 with 1 Axes>"
            ],
            "image/png": "[encoded data removed]"
          },
          "metadata": {}
        }
      ]
    },
    {
      "cell_type": "markdown",
      "source": [
        "# Logistic Regression"
      ],
      "metadata": {
        "id": "OwuAfW_3Grbb"
      }
    },
    {
      "cell_type": "code",
      "source": [
        "import torch\n",
        "import torch.nn as nn\n",
        "import numpy as np\n",
        "import matplotlib.pyplot as plt\n",
        "from sklearn import datasets\n",
        "from sklearn.preprocessing import StandardScaler\n",
        "from sklearn.model_selection import train_test_split as tts"
      ],
      "metadata": {
        "id": "51QS2p0yF-ud"
      },
      "execution_count": null,
      "outputs": []
    },
    {
      "cell_type": "code",
      "source": [
        "bc = datasets.load_breast_cancer()\n",
        "X, y = bc.data, bc.target\n",
        "\n",
        "print(f\"Before reshaping = {X.shape}, {y.shape}\")\n",
        "y = y.reshape(y.shape[0], -1)\n",
        "print(f\"After reshaping = {X.shape}, {y.shape}\")"
      ],
      "metadata": {
        "colab": {
          "base_uri": "https://localhost:8080/"
        },
        "id": "IuumFMB4HZ7M",
        "outputId": "d7df4453-27b0-4897-85c4-e44c7979900a"
      },
      "execution_count": null,
      "outputs": [
        {
          "output_type": "stream",
          "name": "stdout",
          "text": [
            "Before reshaping = (569, 30), (569,)\n",
            "After reshaping = (569, 30), (569, 1)\n"
          ]
        }
      ]
    },
    {
      "cell_type": "code",
      "source": [
        "n_samples, n_features = X.shape\n",
        "\n",
        "X_train, X_test, y_train, y_test = tts(X, y, test_size=0.2, random_state=1234)"
      ],
      "metadata": {
        "id": "lTZJ9L9eHky6"
      },
      "execution_count": null,
      "outputs": []
    },
    {
      "cell_type": "markdown",
      "source": [
        "### Scaling the features with 0 mean and unit variance\n",
        "\n",
        "Scaling will result ouput in numpy array. So perform standardisation before casting to tensor"
      ],
      "metadata": {
        "id": "mz0eFqG2ICyP"
      }
    },
    {
      "cell_type": "code",
      "source": [
        "sc = StandardScaler()\n",
        "\n",
        "X_train_scaled = sc.fit_transform(X_train)\n",
        "X_test_scaled = sc.transform(X_test)"
      ],
      "metadata": {
        "id": "TiUi1y-KICTq"
      },
      "execution_count": null,
      "outputs": []
    },
    {
      "cell_type": "code",
      "source": [
        "# Changing to tensors\n",
        "X_train = torch.from_numpy(X_train_scaled.astype(np.float32))\n",
        "X_test = torch.from_numpy(X_test_scaled.astype(np.float32))\n",
        "y_train = torch.from_numpy(y_train.astype(np.float32))\n",
        "y_test = torch.from_numpy(y_test.astype(np.float32))"
      ],
      "metadata": {
        "id": "Gum8GLRIIY4j"
      },
      "execution_count": null,
      "outputs": []
    },
    {
      "cell_type": "markdown",
      "source": [
        "### Defining Model"
      ],
      "metadata": {
        "id": "2O5bhQaoJE0_"
      }
    },
    {
      "cell_type": "code",
      "source": [
        "class LogisticRegression(nn.Module):\n",
        "    def __init__(self, in_features):\n",
        "        super(LogisticRegression, self).__init__()\n",
        "        self.linear = nn.Linear(in_features=in_features, out_features=1)\n",
        "\n",
        "    def forward(self, x):\n",
        "        y_pred = self.linear(x)\n",
        "        return torch.sigmoid(y_pred)"
      ],
      "metadata": {
        "id": "hSzjJKSsJJ2W"
      },
      "execution_count": null,
      "outputs": []
    },
    {
      "cell_type": "code",
      "source": [
        "model = LogisticRegression(n_features)\n",
        "\n",
        "n_epochs = 1000\n",
        "lr = 0.01\n",
        "# Binary Cross Entropy loss\n",
        "criterion = nn.BCELoss()\n",
        "# Optimizer\n",
        "optimizer = torch.optim.SGD(model.parameters(), lr=lr)\n",
        "\n",
        "for epoch in range(n_epochs):\n",
        "    y_pred = model(X_train)\n",
        "    loss = criterion(y_pred, y_train)\n",
        "    loss.backward()\n",
        "    optimizer.step()\n",
        "    optimizer.zero_grad()\n",
        "\n",
        "    if epoch%100==0:\n",
        "        print(f\"Epoch {epoch}/{n_epochs}, Loss = {loss.item():.5f}\")\n"
      ],
      "metadata": {
        "colab": {
          "base_uri": "https://localhost:8080/"
        },
        "id": "VbK6IAY7KDtY",
        "outputId": "e144f00e-c239-484d-9f78-10832ae457e3"
      },
      "execution_count": null,
      "outputs": [
        {
          "output_type": "stream",
          "name": "stdout",
          "text": [
            "Epoch 0/1000, Loss = 0.49840\n",
            "Epoch 100/1000, Loss = 0.22034\n",
            "Epoch 200/1000, Loss = 0.16536\n",
            "Epoch 300/1000, Loss = 0.13932\n",
            "Epoch 400/1000, Loss = 0.12359\n",
            "Epoch 500/1000, Loss = 0.11284\n",
            "Epoch 600/1000, Loss = 0.10492\n",
            "Epoch 700/1000, Loss = 0.09878\n",
            "Epoch 800/1000, Loss = 0.09384\n",
            "Epoch 900/1000, Loss = 0.08975\n"
          ]
        }
      ]
    },
    {
      "cell_type": "markdown",
      "source": [
        "### Getting Test accuracy"
      ],
      "metadata": {
        "id": "EP6RbUd8N8m5"
      }
    },
    {
      "cell_type": "code",
      "source": [
        "with torch.no_grad():\n",
        "    y_predicted = model(X_test)\n",
        "    y_pred_class = y_predicted.round()\n",
        "    acc = y_pred_class.eq(y_test).sum() / float(y_test.shape[0])\n",
        "    print(f\"Test Accuracy = {acc:.3f}\")"
      ],
      "metadata": {
        "colab": {
          "base_uri": "https://localhost:8080/"
        },
        "id": "M77hLGvFKd8t",
        "outputId": "9f74d6a9-395f-446b-aa22-5112d9f1ef28"
      },
      "execution_count": null,
      "outputs": [
        {
          "output_type": "stream",
          "name": "stdout",
          "text": [
            "Test Accuracy = 0.930\n"
          ]
        }
      ]
    },
    {
      "cell_type": "code",
      "source": [],
      "metadata": {
        "id": "iTJXqhRjOLTp"
      },
      "execution_count": null,
      "outputs": []
    }
  ]
}