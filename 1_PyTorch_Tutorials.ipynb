{
  "nbformat": 4,
  "nbformat_minor": 0,
  "metadata": {
    "colab": {
      "provenance": []
    },
    "kernelspec": {
      "name": "python3",
      "display_name": "Python 3"
    },
    "language_info": {
      "name": "python"
    }
  },
  "cells": [
    {
      "cell_type": "code",
      "execution_count": 1,
      "metadata": {
        "id": "ODMZR0NI8jyS"
      },
      "outputs": [],
      "source": [
        "import torch\n",
        "import numpy as np"
      ]
    },
    {
      "cell_type": "code",
      "source": [
        "print(torch.cuda.is_available())\n",
        "\n",
        "device = torch.device('cuda' if torch.cuda.is_available() else \"cpu\")\n",
        "print(f\"{device} is being used\")"
      ],
      "metadata": {
        "colab": {
          "base_uri": "https://localhost:8080/"
        },
        "id": "4Wv5Vqn38ozL",
        "outputId": "aeaa53a2-d382-4b6f-fb96-341a6f397b2f"
      },
      "execution_count": 2,
      "outputs": [
        {
          "output_type": "stream",
          "name": "stdout",
          "text": [
            "False\n",
            "cpu is being used\n"
          ]
        }
      ]
    },
    {
      "cell_type": "markdown",
      "source": [
        "### Creating Tensors"
      ],
      "metadata": {
        "id": "897pYJC--dyw"
      }
    },
    {
      "cell_type": "code",
      "source": [
        "# Creating an empty tensor\n",
        "x = torch.empty(size=(1, ))\n",
        "print(x)\n",
        "x = torch.empty(1)\n",
        "print(x)\n",
        "x = torch.empty(size=(2, 3))\n",
        "print(x)"
      ],
      "metadata": {
        "colab": {
          "base_uri": "https://localhost:8080/"
        },
        "id": "iEHLqGYg8rD3",
        "outputId": "37262945-5201-41bd-fd63-e35059a8887b"
      },
      "execution_count": 3,
      "outputs": [
        {
          "output_type": "stream",
          "name": "stdout",
          "text": [
            "tensor([1.5624e-42])\n",
            "tensor([-3.8462e-27])\n",
            "tensor([[-3.8462e-27,  4.5003e-41,  1.1777e+11],\n",
            "        [ 3.2432e-41,  1.1765e+11,  3.2432e-41]])\n"
          ]
        }
      ]
    },
    {
      "cell_type": "code",
      "source": [
        "# Creating Random tensors\n",
        "x = torch.rand(2, 2)\n",
        "print(x)\n",
        "x = torch.rand(size=(2, 2))\n",
        "print(x)"
      ],
      "metadata": {
        "colab": {
          "base_uri": "https://localhost:8080/"
        },
        "id": "jhy1VMVF8yvo",
        "outputId": "05611e1e-7cd2-4ad8-b527-b151b224795a"
      },
      "execution_count": 4,
      "outputs": [
        {
          "output_type": "stream",
          "name": "stdout",
          "text": [
            "tensor([[0.0067, 0.7214],\n",
            "        [0.7283, 0.4512]])\n",
            "tensor([[0.3046, 0.7079],\n",
            "        [0.4182, 0.5045]])\n"
          ]
        }
      ]
    },
    {
      "cell_type": "code",
      "source": [
        "# Tensord with 0s or 1s\n",
        "x = torch.zeros(size=(2, 2), dtype=torch.int32)\n",
        "print(f\"x = {x}, Size =  {x.size()}\")\n",
        "x = torch.ones(size=(2, 2))\n",
        "print(x)"
      ],
      "metadata": {
        "colab": {
          "base_uri": "https://localhost:8080/"
        },
        "id": "uOak4y9x9m0t",
        "outputId": "7bca68a2-c9d5-4cb0-d3f9-80cdf764d4a5"
      },
      "execution_count": 5,
      "outputs": [
        {
          "output_type": "stream",
          "name": "stdout",
          "text": [
            "x = tensor([[0, 0],\n",
            "        [0, 0]], dtype=torch.int32), Size =  torch.Size([2, 2])\n",
            "tensor([[1., 1.],\n",
            "        [1., 1.]])\n"
          ]
        }
      ]
    },
    {
      "cell_type": "code",
      "source": [
        "# Creating tensor from lists\n",
        "x = torch.tensor([1,2,3,4])\n",
        "print(x)"
      ],
      "metadata": {
        "colab": {
          "base_uri": "https://localhost:8080/"
        },
        "id": "UYeOc0Km90mb",
        "outputId": "56245989-a984-474d-d66d-6910b294dd4e"
      },
      "execution_count": 6,
      "outputs": [
        {
          "output_type": "stream",
          "name": "stdout",
          "text": [
            "tensor([1, 2, 3, 4])\n"
          ]
        }
      ]
    },
    {
      "cell_type": "markdown",
      "source": [
        "### Basic Tensor Operations"
      ],
      "metadata": {
        "id": "YgYPl8PV-juK"
      }
    },
    {
      "cell_type": "code",
      "source": [
        "x = torch.rand(size=(2, 2))\n",
        "y = torch.rand(size=(2, 2))\n",
        "z = x+y\n",
        "print(z)\n",
        "z = torch.add(x, y)\n",
        "print(z)"
      ],
      "metadata": {
        "colab": {
          "base_uri": "https://localhost:8080/"
        },
        "id": "1s3R5sN4-a5d",
        "outputId": "1c0a7df4-3fde-42fd-94bc-787a5ec7ad71"
      },
      "execution_count": 7,
      "outputs": [
        {
          "output_type": "stream",
          "name": "stdout",
          "text": [
            "tensor([[1.5466, 0.5100],\n",
            "        [0.5125, 1.0400]])\n",
            "tensor([[1.5466, 0.5100],\n",
            "        [0.5125, 1.0400]])\n"
          ]
        }
      ]
    },
    {
      "cell_type": "code",
      "source": [
        "# Using inplace addition, y's value is changed to the sum\n",
        "y.add_(x)\n",
        "print(y)"
      ],
      "metadata": {
        "colab": {
          "base_uri": "https://localhost:8080/"
        },
        "id": "fBKNyosU-vdS",
        "outputId": "066c2447-5645-4af2-887e-1c2e6361d6df"
      },
      "execution_count": 8,
      "outputs": [
        {
          "output_type": "stream",
          "name": "stdout",
          "text": [
            "tensor([[1.5466, 0.5100],\n",
            "        [0.5125, 1.0400]])\n"
          ]
        }
      ]
    },
    {
      "cell_type": "code",
      "source": [
        "# Element-wise multiplication\n",
        "z = x*y\n",
        "print(z)\n",
        "z = torch.mul(x, y)\n",
        "print(z)"
      ],
      "metadata": {
        "colab": {
          "base_uri": "https://localhost:8080/"
        },
        "id": "DZqfnVh0_OhL",
        "outputId": "24b92653-92d9-4ae2-df90-ed6579590a7c"
      },
      "execution_count": 9,
      "outputs": [
        {
          "output_type": "stream",
          "name": "stdout",
          "text": [
            "tensor([[1.0594e+00, 2.1977e-05],\n",
            "        [7.4438e-02, 6.3079e-01]])\n",
            "tensor([[1.0594e+00, 2.1977e-05],\n",
            "        [7.4438e-02, 6.3079e-01]])\n"
          ]
        }
      ]
    },
    {
      "cell_type": "code",
      "source": [
        "# Element-wise Division\n",
        "z = x/y\n",
        "print(z)\n",
        "z = torch.div(x, y)\n",
        "print(z)"
      ],
      "metadata": {
        "colab": {
          "base_uri": "https://localhost:8080/"
        },
        "id": "0uJEooXp_f1z",
        "outputId": "a1d49201-66dc-47ad-ffc0-678a7a66f478"
      },
      "execution_count": 10,
      "outputs": [
        {
          "output_type": "stream",
          "name": "stdout",
          "text": [
            "tensor([[4.4288e-01, 8.4503e-05],\n",
            "        [2.8343e-01, 5.8322e-01]])\n",
            "tensor([[4.4288e-01, 8.4503e-05],\n",
            "        [2.8343e-01, 5.8322e-01]])\n"
          ]
        }
      ]
    },
    {
      "cell_type": "markdown",
      "source": [
        "### Slicing operations"
      ],
      "metadata": {
        "id": "3FNHCgU8_vso"
      }
    },
    {
      "cell_type": "code",
      "source": [
        "x = torch.rand(size=(5, 3))\n",
        "print(x)"
      ],
      "metadata": {
        "colab": {
          "base_uri": "https://localhost:8080/"
        },
        "id": "UzIc87Li_m5z",
        "outputId": "6d15609f-5eca-4fed-c70d-a2a7092ac31e"
      },
      "execution_count": 11,
      "outputs": [
        {
          "output_type": "stream",
          "name": "stdout",
          "text": [
            "tensor([[0.7338, 0.1517, 0.4736],\n",
            "        [0.1734, 0.0406, 0.5236],\n",
            "        [0.0609, 0.2037, 0.3716],\n",
            "        [0.4117, 0.7356, 0.7475],\n",
            "        [0.1156, 0.8449, 0.6207]])\n"
          ]
        }
      ]
    },
    {
      "cell_type": "code",
      "source": [
        "# Getting all row for 1st column\n",
        "print(x[:, 0])\n",
        "\n",
        "# Getting all columns for 1st row\n",
        "print(x[0, :])\n",
        "\n",
        "# Getting element at 2nd row and 2nd col\n",
        "print(x[1, 1])"
      ],
      "metadata": {
        "colab": {
          "base_uri": "https://localhost:8080/"
        },
        "id": "hqhavfFM_2Tb",
        "outputId": "16576100-ddfc-4603-ec51-1c5a9dd2c56f"
      },
      "execution_count": 12,
      "outputs": [
        {
          "output_type": "stream",
          "name": "stdout",
          "text": [
            "tensor([0.7338, 0.1734, 0.0609, 0.4117, 0.1156])\n",
            "tensor([0.7338, 0.1517, 0.4736])\n",
            "tensor(0.0406)\n"
          ]
        }
      ]
    },
    {
      "cell_type": "markdown",
      "source": [
        "If tensor has only 1 value, we can use **.item()** to get the actual value"
      ],
      "metadata": {
        "id": "TyhH4ppNAbef"
      }
    },
    {
      "cell_type": "code",
      "source": [
        "print(x[1, 1])\n",
        "print(x[1, 1].item())"
      ],
      "metadata": {
        "colab": {
          "base_uri": "https://localhost:8080/"
        },
        "id": "JIAN3Yvg_-VT",
        "outputId": "2b25278e-32f4-4132-a053-c67057a33ef4"
      },
      "execution_count": 13,
      "outputs": [
        {
          "output_type": "stream",
          "name": "stdout",
          "text": [
            "tensor(0.0406)\n",
            "0.04056739807128906\n"
          ]
        }
      ]
    },
    {
      "cell_type": "markdown",
      "source": [
        "### Reshaping a tensor"
      ],
      "metadata": {
        "id": "71ZGMqaWApfO"
      }
    },
    {
      "cell_type": "code",
      "source": [
        "x = torch.rand(4, 4)\n",
        "print(x, x.shape)\n",
        "y = x.view(16)\n",
        "print(y, y.shape)"
      ],
      "metadata": {
        "colab": {
          "base_uri": "https://localhost:8080/"
        },
        "id": "fDRNPUOWAm7k",
        "outputId": "da75d095-43e9-417b-f374-3c1f122e886e"
      },
      "execution_count": 14,
      "outputs": [
        {
          "output_type": "stream",
          "name": "stdout",
          "text": [
            "tensor([[0.3925, 0.6364, 0.1015, 0.4229],\n",
            "        [0.8701, 0.4657, 0.3012, 0.7458],\n",
            "        [0.1402, 0.1434, 0.7225, 0.2014],\n",
            "        [0.1011, 0.3525, 0.8415, 0.6462]]) torch.Size([4, 4])\n",
            "tensor([0.3925, 0.6364, 0.1015, 0.4229, 0.8701, 0.4657, 0.3012, 0.7458, 0.1402,\n",
            "        0.1434, 0.7225, 0.2014, 0.1011, 0.3525, 0.8415, 0.6462]) torch.Size([16])\n"
          ]
        }
      ]
    },
    {
      "cell_type": "code",
      "source": [
        "# Getting 8 columns and number of rows willl manage themselves\n",
        "y = x.view(-1, 8)\n",
        "print(y, y.shape)"
      ],
      "metadata": {
        "id": "VkBbb-uHAzHe",
        "colab": {
          "base_uri": "https://localhost:8080/"
        },
        "outputId": "8b394064-f930-44ad-b62c-5f8461744df5"
      },
      "execution_count": 15,
      "outputs": [
        {
          "output_type": "stream",
          "name": "stdout",
          "text": [
            "tensor([[0.3925, 0.6364, 0.1015, 0.4229, 0.8701, 0.4657, 0.3012, 0.7458],\n",
            "        [0.1402, 0.1434, 0.7225, 0.2014, 0.1011, 0.3525, 0.8415, 0.6462]]) torch.Size([2, 8])\n"
          ]
        }
      ]
    },
    {
      "cell_type": "markdown",
      "source": [
        "NumPy arrays require data to be in the CPU memory. So if the tenor from which array is being created is on GPU, it needs to be transferred to CPU first.\n",
        "\n",
        "Then both the tensor and the array will share same memory address"
      ],
      "metadata": {
        "id": "cWilcIWSQhbJ"
      }
    },
    {
      "cell_type": "code",
      "source": [
        "### Conversion from numpy arrays\n",
        "\n",
        "a = torch.ones(5).to(device)\n",
        "print(type(a), a)\n",
        "a_CPU = a.cpu()\n",
        "b = a_CPU.numpy()\n",
        "print(type(b), (b))"
      ],
      "metadata": {
        "colab": {
          "base_uri": "https://localhost:8080/"
        },
        "id": "owvM6SF5ED_8",
        "outputId": "2fcba7c0-55c2-4e8d-c7f8-7d4ea68aefc0"
      },
      "execution_count": 16,
      "outputs": [
        {
          "output_type": "stream",
          "name": "stdout",
          "text": [
            "<class 'torch.Tensor'> tensor([1., 1., 1., 1., 1.])\n",
            "<class 'numpy.ndarray'> [1. 1. 1. 1. 1.]\n"
          ]
        }
      ]
    },
    {
      "cell_type": "markdown",
      "source": [
        "Changing 1st wil affect the other"
      ],
      "metadata": {
        "id": "E3CwA6HqFARa"
      }
    },
    {
      "cell_type": "code",
      "source": [
        "a_CPU.add_(1)\n",
        "print(a_CPU)\n",
        "print(b)"
      ],
      "metadata": {
        "colab": {
          "base_uri": "https://localhost:8080/"
        },
        "id": "nyV_EPHHE1iy",
        "outputId": "a3bec7b9-8b2e-4a2a-bfcf-861b8d7da34e"
      },
      "execution_count": 17,
      "outputs": [
        {
          "output_type": "stream",
          "name": "stdout",
          "text": [
            "tensor([2., 2., 2., 2., 2.])\n",
            "[2. 2. 2. 2. 2.]\n"
          ]
        }
      ]
    },
    {
      "cell_type": "code",
      "source": [
        "a = np.ones(5)\n",
        "print(type(a), a)\n",
        "b = torch.from_numpy(a)\n",
        "print(type(b), b)\n",
        "\n",
        "a = a+1 # Creates new instance of a\n",
        "print(a)\n",
        "print(b)"
      ],
      "metadata": {
        "id": "Bs0fq1TUFH4f",
        "colab": {
          "base_uri": "https://localhost:8080/"
        },
        "outputId": "3f6f8ca4-21bd-46af-b484-6f0f0c684df5"
      },
      "execution_count": 18,
      "outputs": [
        {
          "output_type": "stream",
          "name": "stdout",
          "text": [
            "<class 'numpy.ndarray'> [1. 1. 1. 1. 1.]\n",
            "<class 'torch.Tensor'> tensor([1., 1., 1., 1., 1.], dtype=torch.float64)\n",
            "[2. 2. 2. 2. 2.]\n",
            "tensor([1., 1., 1., 1., 1.], dtype=torch.float64)\n"
          ]
        }
      ]
    },
    {
      "cell_type": "markdown",
      "source": [
        "Again, they are sharing same memory address"
      ],
      "metadata": {
        "id": "TyVMCAGdSGlM"
      }
    },
    {
      "cell_type": "code",
      "source": [
        "a = np.ones(5)\n",
        "print(type(a), a)\n",
        "b = torch.from_numpy(a)\n",
        "print(type(b), b)\n",
        "\n",
        "a+=1\n",
        "print(a)\n",
        "print(b)"
      ],
      "metadata": {
        "colab": {
          "base_uri": "https://localhost:8080/"
        },
        "id": "aiQLnRMvRsOb",
        "outputId": "ad710841-1c17-4ec7-cbfc-ad3ca3f4c986"
      },
      "execution_count": 19,
      "outputs": [
        {
          "output_type": "stream",
          "name": "stdout",
          "text": [
            "<class 'numpy.ndarray'> [1. 1. 1. 1. 1.]\n",
            "<class 'torch.Tensor'> tensor([1., 1., 1., 1., 1.], dtype=torch.float64)\n",
            "[2. 2. 2. 2. 2.]\n",
            "tensor([2., 2., 2., 2., 2.], dtype=torch.float64)\n"
          ]
        }
      ]
    },
    {
      "cell_type": "code",
      "source": [],
      "metadata": {
        "id": "FWwjIl2TRY9a"
      },
      "execution_count": 19,
      "outputs": []
    }
  ]
}