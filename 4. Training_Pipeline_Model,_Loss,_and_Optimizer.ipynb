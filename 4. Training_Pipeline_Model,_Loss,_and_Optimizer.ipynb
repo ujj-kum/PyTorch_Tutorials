{
  "nbformat": 4,
  "nbformat_minor": 0,
  "metadata": {
    "colab": {
      "provenance": []
    },
    "kernelspec": {
      "name": "python3",
      "display_name": "Python 3"
    },
    "language_info": {
      "name": "python"
    }
  },
  "cells": [
    {
      "cell_type": "markdown",
      "source": [
        "### Structure of a PyTorch model\n",
        "\n",
        "1. Design Model\n",
        "    - Input_size\n",
        "    - Output_size\n",
        "    - Forward_pass (contains all operations and layers)\n",
        "\n",
        "2. Construct Loss and Optimizer\n",
        "\n",
        "3. Training Loop\n",
        "\n",
        " a. Forward pass\n",
        "\n",
        " b. Backward pass\n",
        "\n",
        " c. Update Weights\n"
      ],
      "metadata": {
        "id": "AUdIbDLSMAdV"
      }
    },
    {
      "cell_type": "code",
      "execution_count": null,
      "metadata": {
        "id": "-MctBtUAL5YW"
      },
      "outputs": [],
      "source": [
        "import torch\n",
        "import torch.nn as nn"
      ]
    },
    {
      "cell_type": "code",
      "source": [
        "X = torch.tensor([1, 2, 3, 4], dtype=torch.float32)\n",
        "y = 2*X\n",
        "\n",
        "w = torch.tensor(0.0, dtype=torch.float32, requires_grad=True)"
      ],
      "metadata": {
        "id": "aMk4OA9eMpqb"
      },
      "execution_count": null,
      "outputs": []
    },
    {
      "cell_type": "code",
      "source": [
        "def forward(x):\n",
        "    return w*x"
      ],
      "metadata": {
        "id": "kVdzCywrM4Se"
      },
      "execution_count": null,
      "outputs": []
    },
    {
      "cell_type": "code",
      "source": [
        "lr = 0.01\n",
        "n_iters = 100\n",
        "\n",
        "loss = nn.MSELoss()\n",
        "optimizer = torch.optim.SGD(params=[w], lr=lr)\n",
        "\n",
        "for epoch in range(1, n_iters+1):\n",
        "    y_pred = forward(X)\n",
        "\n",
        "    l = loss(y, y_pred)\n",
        "\n",
        "    # Calculating gradient automatically\n",
        "    # dl/dw\n",
        "    l.backward()\n",
        "\n",
        "    # Earlier\n",
        "    # with torch.no_grad():\n",
        "    #     w -= lr*w.grad\n",
        "    # w.grad.zero_()\n",
        "    optimizer.step()\n",
        "    optimizer.zero_grad\n",
        "\n",
        "    if epoch%10==0:\n",
        "        print(f\"Epoch {epoch}: w = {w:.3f}, loss={l:.5f}\")\n",
        "\n",
        "print(f\"Prediction after training:\\nf(5) = {forward(5):.3f}\")"
      ],
      "metadata": {
        "colab": {
          "base_uri": "https://localhost:8080/"
        },
        "id": "uQNeruJYM7aW",
        "outputId": "9ee5076e-454a-4c1e-83f1-9038420a0bb0"
      },
      "execution_count": null,
      "outputs": [
        {
          "output_type": "stream",
          "name": "stdout",
          "text": [
            "Epoch 10: w = 3.184, loss=22.34242\n",
            "Epoch 20: w = 2.277, loss=1.96267\n",
            "Epoch 30: w = 0.413, loss=7.22630\n",
            "Epoch 40: w = 4.032, loss=28.22434\n",
            "Epoch 50: w = 0.629, loss=25.42730\n",
            "Epoch 60: w = 1.962, loss=4.10068\n",
            "Epoch 70: w = 3.426, loss=4.39257\n",
            "Epoch 80: w = -0.037, loss=25.75348\n",
            "Epoch 90: w = 3.538, loss=27.97076\n",
            "Epoch 100: w = 1.799, loss=6.87032\n",
            "Prediction after training:\n",
            "f(5) = 8.993\n"
          ]
        }
      ]
    },
    {
      "cell_type": "markdown",
      "source": [
        "### Instead of manual **forward()**, we can use **nn.Linear()**\n",
        "\n",
        "No. of Rows = No. of Samples\n",
        "\n",
        "No. of Columns = No. of Features\n",
        "\n",
        "Here we have 4 samples and each sample has 1 feature"
      ],
      "metadata": {
        "id": "LQch226uSShf"
      }
    },
    {
      "cell_type": "code",
      "source": [
        "X = torch.tensor([1, 2, 3, 4], dtype=torch.float32).reshape(4, -1)\n",
        "y = 2*X\n",
        "print(X)\n",
        "print(X.shape, y.shape)"
      ],
      "metadata": {
        "id": "Xx-d4O2SOlFQ",
        "colab": {
          "base_uri": "https://localhost:8080/"
        },
        "outputId": "465d0830-3ae3-4535-e265-4143c050aa2f"
      },
      "execution_count": null,
      "outputs": [
        {
          "output_type": "stream",
          "name": "stdout",
          "text": [
            "tensor([[1.],\n",
            "        [2.],\n",
            "        [3.],\n",
            "        [4.]])\n",
            "torch.Size([4, 1]) torch.Size([4, 1])\n"
          ]
        }
      ]
    },
    {
      "cell_type": "code",
      "source": [
        "n_samples, n_features = X.shape\n",
        "print(n_samples, n_features)\n",
        "\n",
        "# Here, we have 1 input and 1 output\n",
        "model = nn.Linear(in_features=n_features, out_features=n_features)"
      ],
      "metadata": {
        "id": "3Nqy5FYHSgHU",
        "colab": {
          "base_uri": "https://localhost:8080/"
        },
        "outputId": "e07bc79b-a001-4d2c-812e-85a5557c7f4d"
      },
      "execution_count": null,
      "outputs": [
        {
          "output_type": "stream",
          "name": "stdout",
          "text": [
            "4 1\n"
          ]
        }
      ]
    },
    {
      "cell_type": "markdown",
      "source": [
        "Now input will be in the form of a tensor and not a float value"
      ],
      "metadata": {
        "id": "cEWYdvnjU_2f"
      }
    },
    {
      "cell_type": "code",
      "source": [
        "input_sample = torch.tensor([5], dtype=torch.float32)\n",
        "print(f\"Prediction before training:\\nf(5) = {model(input_sample).item():.3f}\")"
      ],
      "metadata": {
        "colab": {
          "base_uri": "https://localhost:8080/"
        },
        "id": "r-VSLiYUUvxJ",
        "outputId": "14b4bd53-9f54-42d1-9b2f-8bb505245f16"
      },
      "execution_count": null,
      "outputs": [
        {
          "output_type": "stream",
          "name": "stdout",
          "text": [
            "Prediction before training:\n",
            "f(5) = -2.845\n"
          ]
        }
      ]
    },
    {
      "cell_type": "markdown",
      "source": [
        "**w** is a 2D matrix which typically represents the weight matrix for a fully connected layer (e.g., nn.Linear), where each entry w[i][j] corresponds to the weight connecting the j-th input feature to the i-th output feature."
      ],
      "metadata": {
        "id": "S7ZOYlybYHrp"
      }
    },
    {
      "cell_type": "code",
      "source": [
        "lr = 0.01\n",
        "n_iters = 100\n",
        "\n",
        "loss = nn.MSELoss()\n",
        "optimizer = torch.optim.SGD(params=model.parameters(), lr=lr)\n",
        "\n",
        "for epoch in range(1, n_iters+1):\n",
        "    y_pred = model(X)\n",
        "\n",
        "    l = loss(y, y_pred)\n",
        "\n",
        "    # Calculating gradient automatically\n",
        "    # dl/dw\n",
        "    l.backward()\n",
        "\n",
        "    # Earlier\n",
        "    # with torch.no_grad():\n",
        "    #     w -= lr*w.grad\n",
        "    # w.grad.zero_()\n",
        "    optimizer.step()\n",
        "    optimizer.zero_grad\n",
        "\n",
        "    if epoch%10==0:\n",
        "        [w, b] = model.parameters()\n",
        "        print(f\"Epoch {epoch}: w = {w[0][0].item():.3f}, loss={l:.5f}\")\n",
        "\n",
        "print(f\"Prediction after training:\\nf(5) = {model(input_sample).item():.3f}\")"
      ],
      "metadata": {
        "colab": {
          "base_uri": "https://localhost:8080/"
        },
        "id": "-sk_N8RaVMq4",
        "outputId": "a11973ac-67a4-47c3-8f0c-0b9ae92451a6"
      },
      "execution_count": null,
      "outputs": [
        {
          "output_type": "stream",
          "name": "stdout",
          "text": [
            "Epoch 10: w = 2.986, loss=29.55885\n",
            "Epoch 20: w = 3.385, loss=1.66508\n",
            "Epoch 30: w = -0.481, loss=47.42399\n",
            "Epoch 40: w = 3.390, loss=41.60320\n",
            "Epoch 50: w = 2.835, loss=0.13460\n",
            "Epoch 60: w = -0.459, loss=36.51072\n",
            "Epoch 70: w = 3.790, loss=51.17986\n",
            "Epoch 80: w = 2.341, loss=3.99400\n",
            "Epoch 90: w = -0.216, loss=24.08649\n",
            "Epoch 100: w = 4.183, loss=56.46851\n",
            "Prediction after training:\n",
            "f(5) = 21.542\n"
          ]
        }
      ]
    },
    {
      "cell_type": "markdown",
      "source": [
        "In the above case, we have only 1 weight"
      ],
      "metadata": {
        "id": "W8IEFzvkCACg"
      }
    },
    {
      "cell_type": "code",
      "source": [
        "[w, b] = model.parameters()\n",
        "print(\"For Weight\")\n",
        "print(w.shape)\n",
        "print(w[0][0])\n",
        "print(\"*\"*100)\n",
        "print(\"For Bias\")\n",
        "print(b.shape)\n",
        "print(b[0])"
      ],
      "metadata": {
        "colab": {
          "base_uri": "https://localhost:8080/"
        },
        "id": "5ZDMJEjXBoCc",
        "outputId": "659967ed-1896-4664-81dc-d9256d18e078"
      },
      "execution_count": null,
      "outputs": [
        {
          "output_type": "stream",
          "name": "stdout",
          "text": [
            "For Weight\n",
            "torch.Size([1, 1])\n",
            "tensor(4.1829, grad_fn=<SelectBackward0>)\n",
            "****************************************************************************************************\n",
            "For Bias\n",
            "torch.Size([1])\n",
            "tensor(0.6273, grad_fn=<SelectBackward0>)\n"
          ]
        }
      ]
    },
    {
      "cell_type": "markdown",
      "source": [
        "### Using custom model"
      ],
      "metadata": {
        "id": "gI4dhW8uZiva"
      }
    },
    {
      "cell_type": "code",
      "source": [
        "class LinearRegression(nn.Module):\n",
        "    def __init__(self, in_features, out_features):\n",
        "        super(LinearRegression, self).__init__()\n",
        "\n",
        "        # Define layers\n",
        "        self.linear = nn.Linear(in_features=in_features, out_features=out_features)\n",
        "\n",
        "    def forward(self, x):\n",
        "        return self.linear(x)"
      ],
      "metadata": {
        "id": "k8fvTvqiW4DE"
      },
      "execution_count": null,
      "outputs": []
    },
    {
      "cell_type": "code",
      "source": [
        "# Here n_features=1\n",
        "model = LinearRegression(in_features=n_features, out_features=n_features)\n",
        "\n",
        "lr = 0.01\n",
        "n_iters = 500\n",
        "\n",
        "loss = nn.MSELoss()\n",
        "optimizer = torch.optim.SGD(params=model.parameters(), lr=lr)\n",
        "\n",
        "for epoch in range(1, n_iters+1):\n",
        "    y_pred = model(X)\n",
        "\n",
        "    l = loss(y, y_pred)\n",
        "\n",
        "    # Calculating gradient automatically\n",
        "    # dl/dw\n",
        "    l.backward()\n",
        "\n",
        "    # Earlier\n",
        "    # with torch.no_grad():\n",
        "    #     w -= lr*w.grad\n",
        "    # w.grad.zero_()\n",
        "    optimizer.step()\n",
        "    optimizer.zero_grad\n",
        "\n",
        "    if epoch%100==0:\n",
        "        [w, b] = model.parameters()\n",
        "        print(f\"Epoch {epoch}: w = {w[0][0].item():.3f}, loss={l:.5f}\")\n",
        "\n",
        "print(f\"Prediction after training:\\nf(5) = {model(input_sample).item():.3f}\")"
      ],
      "metadata": {
        "colab": {
          "base_uri": "https://localhost:8080/"
        },
        "id": "wM4maXwfZ6Ca",
        "outputId": "4c6a83c4-69a6-4c2b-8041-b29d7214fcb4"
      },
      "execution_count": null,
      "outputs": [
        {
          "output_type": "stream",
          "name": "stdout",
          "text": [
            "Epoch 100: w = 3.715, loss=38.29234\n",
            "Epoch 200: w = 0.636, loss=32.15721\n",
            "Epoch 300: w = 2.885, loss=21.10789\n",
            "Epoch 400: w = 1.866, loss=9.39189\n",
            "Epoch 500: w = 1.618, loss=1.51661\n",
            "Prediction after training:\n",
            "f(5) = 7.801\n"
          ]
        }
      ]
    },
    {
      "cell_type": "code",
      "source": [],
      "metadata": {
        "id": "7lzTqISMaOSJ"
      },
      "execution_count": null,
      "outputs": []
    }
  ]
}