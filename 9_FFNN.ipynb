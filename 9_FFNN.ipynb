{
  "nbformat": 4,
  "nbformat_minor": 0,
  "metadata": {
    "colab": {
      "provenance": [],
      "gpuType": "T4"
    },
    "kernelspec": {
      "name": "python3",
      "display_name": "Python 3"
    },
    "language_info": {
      "name": "python"
    },
    "accelerator": "GPU"
  },
  "cells": [
    {
      "cell_type": "code",
      "execution_count": 1,
      "metadata": {
        "id": "Zzlu-4srhO-1"
      },
      "outputs": [],
      "source": [
        "import torch\n",
        "import torch.nn as nn\n",
        "import torchvision\n",
        "import torchvision.transforms as transforms\n",
        "import matplotlib.pyplot as plt\n",
        "import numpy as np"
      ]
    },
    {
      "cell_type": "code",
      "source": [
        "device = torch.device('cuda') if torch.cuda.is_available() else 'cpu'"
      ],
      "metadata": {
        "id": "yvYV5zTUmPCe"
      },
      "execution_count": 2,
      "outputs": []
    },
    {
      "cell_type": "code",
      "source": [
        "# Hyperparameters\n",
        "input_features = 28*28\n",
        "hidden_features = 100\n",
        "num_classes = 10\n",
        "num_epochs = 2\n",
        "batch_size = 100\n",
        "learning_rate = 0.001"
      ],
      "metadata": {
        "id": "UtABJMZsmh7k"
      },
      "execution_count": 3,
      "outputs": []
    },
    {
      "cell_type": "markdown",
      "source": [
        "### Loading MNIST dataset"
      ],
      "metadata": {
        "id": "yd0ZQQjjmwg-"
      }
    },
    {
      "cell_type": "code",
      "source": [
        "train_dataset = torchvision.datasets.MNIST(root='./data', train=True, transform=transforms.ToTensor(), download=True)\n",
        "test_dataset = torchvision.datasets.MNIST(root='./data', train=False, transform=transforms.ToTensor())"
      ],
      "metadata": {
        "id": "2V4w9rzYmvWI"
      },
      "execution_count": 4,
      "outputs": []
    },
    {
      "cell_type": "code",
      "source": [
        "train_loader = torch.utils.data.DataLoader(\n",
        "    dataset=train_dataset,\n",
        "    batch_size=batch_size,\n",
        "    shuffle=True\n",
        ")\n",
        "\n",
        "test_loader = torch.utils.data.DataLoader(\n",
        "    dataset=test_dataset,\n",
        "    batch_size=batch_size,\n",
        "    shuffle=False\n",
        ")"
      ],
      "metadata": {
        "id": "8nVzkmNInQe9"
      },
      "execution_count": 5,
      "outputs": []
    },
    {
      "cell_type": "markdown",
      "source": [
        "**sample** contains 100 data samples because batch size=100. Each datapoint is 1\\*28\\*28 because only 1 channel is present.\n",
        "\n",
        "labels  contains 100 elements."
      ],
      "metadata": {
        "id": "7O3WDqm8oZR3"
      }
    },
    {
      "cell_type": "code",
      "source": [
        "dataiter = iter(train_loader)\n",
        "samples, labels = next(dataiter)\n",
        "print(np.array(samples).shape)\n",
        "print(np.array(labels).shape)\n",
        "print(len(train_loader))"
      ],
      "metadata": {
        "colab": {
          "base_uri": "https://localhost:8080/"
        },
        "id": "G3Qqc7kTny73",
        "outputId": "7fd3fd71-de7d-4cfe-c6b3-015341ef1180"
      },
      "execution_count": 6,
      "outputs": [
        {
          "output_type": "stream",
          "name": "stdout",
          "text": [
            "(100, 1, 28, 28)\n",
            "(100,)\n",
            "600\n"
          ]
        }
      ]
    },
    {
      "cell_type": "markdown",
      "source": [
        "### Visualizing data"
      ],
      "metadata": {
        "id": "VIq2HtYkqGp3"
      }
    },
    {
      "cell_type": "code",
      "source": [
        "for i in range(6):\n",
        "    plt.subplot(2, 3, i+1)\n",
        "    plt.imshow(samples[i][0], cmap='gray')\n",
        "plt.show()"
      ],
      "metadata": {
        "colab": {
          "base_uri": "https://localhost:8080/",
          "height": 411
        },
        "id": "rBTxww3oqaRW",
        "outputId": "733c64d3-019d-4bf7-f383-e89f9bca4fc2"
      },
      "execution_count": 7,
      "outputs": [
        {
          "output_type": "display_data",
          "data": {
            "text/plain": [
              "<Figure size 640x480 with 6 Axes>"
            ],
            "image/png": "[encoded data removed]"
          },
          "metadata": {}
        }
      ]
    },
    {
      "cell_type": "markdown",
      "source": [
        "### Model"
      ],
      "metadata": {
        "id": "XLjpoWEMsZ00"
      }
    },
    {
      "cell_type": "code",
      "source": [
        "class NeuralNetwork(nn.Module):\n",
        "    def __init__(self, input_features, hidden_features, num_classes=10):\n",
        "        super(NeuralNetwork, self).__init__()\n",
        "        self.linear1 = nn.Linear(in_features=input_features, out_features=hidden_features)\n",
        "        self.relu = nn.ReLU()\n",
        "        self.linear2 = nn.Linear(in_features=hidden_features, out_features=num_classes)\n",
        "\n",
        "    def forward(self, x):\n",
        "        out1 = self.linear1(x)\n",
        "        out2 = self.relu(out1)\n",
        "        out3 = self.linear2(out2)\n",
        "        return out3"
      ],
      "metadata": {
        "id": "qMRH4YhZrOQO"
      },
      "execution_count": 8,
      "outputs": []
    },
    {
      "cell_type": "markdown",
      "source": [
        "images shape is **(100, 1, 28, 28)**. But model expects it in shape **(100, 784)**. So, we have to reshape the data."
      ],
      "metadata": {
        "id": "fsKBq3cevIVn"
      }
    },
    {
      "cell_type": "code",
      "source": [
        "model = NeuralNetwork(input_features=input_features, hidden_features=hidden_features, num_classes=num_classes).to(device)\n",
        "\n",
        "criterion = nn.CrossEntropyLoss()\n",
        "optimizer = torch.optim.Adam(model.parameters(), lr=learning_rate)\n",
        "\n",
        "# Train loop\n",
        "# This denotes the numberof batches\n",
        "n_total_steps = len(train_loader)\n",
        "for epoch in range(num_epochs):\n",
        "    for step, (images, labels) in enumerate(train_loader):\n",
        "       images = images.reshape(-1, images.shape[2]*images.shape[3]).to(device)\n",
        "       labels = labels.to(device)\n",
        "\n",
        "       # Forward Pass\n",
        "       outputs = model(images)\n",
        "       loss = criterion(outputs, labels)\n",
        "\n",
        "       # Backward pass\n",
        "       optimizer.zero_grad()\n",
        "       loss.backward()\n",
        "       optimizer.step()\n",
        "\n",
        "       if (step+1)%10==0:\n",
        "        print(f\"Epoch {epoch+1}/{num_epochs}, Step {step+1}/{n_total_steps}, Loss = {loss.item():.4f}\")\n"
      ],
      "metadata": {
        "colab": {
          "base_uri": "https://localhost:8080/"
        },
        "id": "gj-wI9qftjBA",
        "outputId": "b13858ad-0fa2-447c-f31f-d1fee9934b6d"
      },
      "execution_count": 9,
      "outputs": [
        {
          "output_type": "stream",
          "name": "stdout",
          "text": [
            "Epoch 1/2, Step 10/600, Loss = 1.9110\n",
            "Epoch 1/2, Step 20/600, Loss = 1.4270\n",
            "Epoch 1/2, Step 30/600, Loss = 1.0611\n",
            "Epoch 1/2, Step 40/600, Loss = 0.6942\n",
            "Epoch 1/2, Step 50/600, Loss = 0.7919\n",
            "Epoch 1/2, Step 60/600, Loss = 0.6054\n",
            "Epoch 1/2, Step 70/600, Loss = 0.6085\n",
            "Epoch 1/2, Step 80/600, Loss = 0.5120\n",
            "Epoch 1/2, Step 90/600, Loss = 0.6133\n",
            "Epoch 1/2, Step 100/600, Loss = 0.4240\n",
            "Epoch 1/2, Step 110/600, Loss = 0.4960\n",
            "Epoch 1/2, Step 120/600, Loss = 0.4880\n",
            "Epoch 1/2, Step 130/600, Loss = 0.3768\n",
            "Epoch 1/2, Step 140/600, Loss = 0.4603\n",
            "Epoch 1/2, Step 150/600, Loss = 0.3474\n",
            "Epoch 1/2, Step 160/600, Loss = 0.3032\n",
            "Epoch 1/2, Step 170/600, Loss = 0.3636\n",
            "Epoch 1/2, Step 180/600, Loss = 0.3235\n",
            "Epoch 1/2, Step 190/600, Loss = 0.5522\n",
            "Epoch 1/2, Step 200/600, Loss = 0.3196\n",
            "Epoch 1/2, Step 210/600, Loss = 0.3314\n",
            "Epoch 1/2, Step 220/600, Loss = 0.1716\n",
            "Epoch 1/2, Step 230/600, Loss = 0.3007\n",
            "Epoch 1/2, Step 240/600, Loss = 0.4095\n",
            "Epoch 1/2, Step 250/600, Loss = 0.4045\n",
            "Epoch 1/2, Step 260/600, Loss = 0.2960\n",
            "Epoch 1/2, Step 270/600, Loss = 0.3643\n",
            "Epoch 1/2, Step 280/600, Loss = 0.4301\n",
            "Epoch 1/2, Step 290/600, Loss = 0.2167\n",
            "Epoch 1/2, Step 300/600, Loss = 0.2993\n",
            "Epoch 1/2, Step 310/600, Loss = 0.2364\n",
            "Epoch 1/2, Step 320/600, Loss = 0.1735\n",
            "Epoch 1/2, Step 330/600, Loss = 0.1890\n",
            "Epoch 1/2, Step 340/600, Loss = 0.2464\n",
            "Epoch 1/2, Step 350/600, Loss = 0.4235\n",
            "Epoch 1/2, Step 360/600, Loss = 0.2303\n",
            "Epoch 1/2, Step 370/600, Loss = 0.3251\n",
            "Epoch 1/2, Step 380/600, Loss = 0.3556\n",
            "Epoch 1/2, Step 390/600, Loss = 0.2971\n",
            "Epoch 1/2, Step 400/600, Loss = 0.2504\n",
            "Epoch 1/2, Step 410/600, Loss = 0.3096\n",
            "Epoch 1/2, Step 420/600, Loss = 0.2864\n",
            "Epoch 1/2, Step 430/600, Loss = 0.2551\n",
            "Epoch 1/2, Step 440/600, Loss = 0.3332\n",
            "Epoch 1/2, Step 450/600, Loss = 0.2430\n",
            "Epoch 1/2, Step 460/600, Loss = 0.4922\n",
            "Epoch 1/2, Step 470/600, Loss = 0.2679\n",
            "Epoch 1/2, Step 480/600, Loss = 0.3568\n",
            "Epoch 1/2, Step 490/600, Loss = 0.4618\n",
            "Epoch 1/2, Step 500/600, Loss = 0.1946\n",
            "Epoch 1/2, Step 510/600, Loss = 0.2791\n",
            "Epoch 1/2, Step 520/600, Loss = 0.1585\n",
            "Epoch 1/2, Step 530/600, Loss = 0.4794\n",
            "Epoch 1/2, Step 540/600, Loss = 0.3018\n",
            "Epoch 1/2, Step 550/600, Loss = 0.2396\n",
            "Epoch 1/2, Step 560/600, Loss = 0.1727\n",
            "Epoch 1/2, Step 570/600, Loss = 0.2588\n",
            "Epoch 1/2, Step 580/600, Loss = 0.3325\n",
            "Epoch 1/2, Step 590/600, Loss = 0.2642\n",
            "Epoch 1/2, Step 600/600, Loss = 0.2390\n",
            "Epoch 2/2, Step 10/600, Loss = 0.3207\n",
            "Epoch 2/2, Step 20/600, Loss = 0.3163\n",
            "Epoch 2/2, Step 30/600, Loss = 0.1000\n",
            "Epoch 2/2, Step 40/600, Loss = 0.1479\n",
            "Epoch 2/2, Step 50/600, Loss = 0.2358\n",
            "Epoch 2/2, Step 60/600, Loss = 0.2563\n",
            "Epoch 2/2, Step 70/600, Loss = 0.3906\n",
            "Epoch 2/2, Step 80/600, Loss = 0.2721\n",
            "Epoch 2/2, Step 90/600, Loss = 0.1895\n",
            "Epoch 2/2, Step 100/600, Loss = 0.1466\n",
            "Epoch 2/2, Step 110/600, Loss = 0.2061\n",
            "Epoch 2/2, Step 120/600, Loss = 0.2766\n",
            "Epoch 2/2, Step 130/600, Loss = 0.2638\n",
            "Epoch 2/2, Step 140/600, Loss = 0.1509\n",
            "Epoch 2/2, Step 150/600, Loss = 0.1894\n",
            "Epoch 2/2, Step 160/600, Loss = 0.2120\n",
            "Epoch 2/2, Step 170/600, Loss = 0.1072\n",
            "Epoch 2/2, Step 180/600, Loss = 0.1269\n",
            "Epoch 2/2, Step 190/600, Loss = 0.1661\n",
            "Epoch 2/2, Step 200/600, Loss = 0.1957\n",
            "Epoch 2/2, Step 210/600, Loss = 0.1016\n",
            "Epoch 2/2, Step 220/600, Loss = 0.1967\n",
            "Epoch 2/2, Step 230/600, Loss = 0.1584\n",
            "Epoch 2/2, Step 240/600, Loss = 0.1805\n",
            "Epoch 2/2, Step 250/600, Loss = 0.2047\n",
            "Epoch 2/2, Step 260/600, Loss = 0.2713\n",
            "Epoch 2/2, Step 270/600, Loss = 0.2596\n",
            "Epoch 2/2, Step 280/600, Loss = 0.2659\n",
            "Epoch 2/2, Step 290/600, Loss = 0.2246\n",
            "Epoch 2/2, Step 300/600, Loss = 0.1414\n",
            "Epoch 2/2, Step 310/600, Loss = 0.1890\n",
            "Epoch 2/2, Step 320/600, Loss = 0.1667\n",
            "Epoch 2/2, Step 330/600, Loss = 0.2513\n",
            "Epoch 2/2, Step 340/600, Loss = 0.1534\n",
            "Epoch 2/2, Step 350/600, Loss = 0.2161\n",
            "Epoch 2/2, Step 360/600, Loss = 0.0786\n",
            "Epoch 2/2, Step 370/600, Loss = 0.1753\n",
            "Epoch 2/2, Step 380/600, Loss = 0.1178\n",
            "Epoch 2/2, Step 390/600, Loss = 0.0894\n",
            "Epoch 2/2, Step 400/600, Loss = 0.1416\n",
            "Epoch 2/2, Step 410/600, Loss = 0.1091\n",
            "Epoch 2/2, Step 420/600, Loss = 0.2013\n",
            "Epoch 2/2, Step 430/600, Loss = 0.1176\n",
            "Epoch 2/2, Step 440/600, Loss = 0.1898\n",
            "Epoch 2/2, Step 450/600, Loss = 0.1126\n",
            "Epoch 2/2, Step 460/600, Loss = 0.2058\n",
            "Epoch 2/2, Step 470/600, Loss = 0.1187\n",
            "Epoch 2/2, Step 480/600, Loss = 0.2469\n",
            "Epoch 2/2, Step 490/600, Loss = 0.1882\n",
            "Epoch 2/2, Step 500/600, Loss = 0.1779\n",
            "Epoch 2/2, Step 510/600, Loss = 0.1696\n",
            "Epoch 2/2, Step 520/600, Loss = 0.1086\n",
            "Epoch 2/2, Step 530/600, Loss = 0.1039\n",
            "Epoch 2/2, Step 540/600, Loss = 0.2849\n",
            "Epoch 2/2, Step 550/600, Loss = 0.1486\n",
            "Epoch 2/2, Step 560/600, Loss = 0.0889\n",
            "Epoch 2/2, Step 570/600, Loss = 0.1631\n",
            "Epoch 2/2, Step 580/600, Loss = 0.1650\n",
            "Epoch 2/2, Step 590/600, Loss = 0.2225\n",
            "Epoch 2/2, Step 600/600, Loss = 0.1768\n"
          ]
        }
      ]
    },
    {
      "cell_type": "markdown",
      "source": [
        "### Testing and Evaluation"
      ],
      "metadata": {
        "id": "plQufUL_xMC0"
      }
    },
    {
      "cell_type": "code",
      "source": [
        "with torch.no_grad():\n",
        "    n_correct = 0\n",
        "    n_samples = 0\n",
        "    for images, labels in test_loader:\n",
        "       images = images.reshape(-1, images.shape[2]*images.shape[3]).to(device)\n",
        "       labels = labels.to(device)\n",
        "\n",
        "       outputs = model(images)\n",
        "       _, predictions = torch.max(outputs, dim=1)\n",
        "       n_samples += labels.shape[0]\n",
        "       n_correct += (predictions==labels).sum().item()\n",
        "\n",
        "    accuracy = 100.0*n_correct / n_samples\n",
        "    print(\"Test Accuracy = \", accuracy)\n"
      ],
      "metadata": {
        "colab": {
          "base_uri": "https://localhost:8080/"
        },
        "id": "nv7FVvPUwdX2",
        "outputId": "fae7b96e-ed2e-48d8-cce4-4dbae97f0e58"
      },
      "execution_count": 10,
      "outputs": [
        {
          "output_type": "stream",
          "name": "stdout",
          "text": [
            "Test Accuracy =  95.16\n"
          ]
        }
      ]
    },
    {
      "cell_type": "code",
      "source": [],
      "metadata": {
        "id": "5GnbFSK-yWKf"
      },
      "execution_count": 10,
      "outputs": []
    }
  ]
}