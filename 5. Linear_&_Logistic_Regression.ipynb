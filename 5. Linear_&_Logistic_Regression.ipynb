{
  "nbformat": 4,
  "nbformat_minor": 0,
  "metadata": {
    "colab": {
      "provenance": []
    },
    "kernelspec": {
      "name": "python3",
      "display_name": "Python 3"
    },
    "language_info": {
      "name": "python"
    }
  },
  "cells": [
    {
      "cell_type": "code",
      "execution_count": 1,
      "metadata": {
        "id": "zftQJFUncBjE"
      },
      "outputs": [],
      "source": [
        "import torch\n",
        "import torch.nn as nn\n",
        "import numpy as np\n",
        "import matplotlib.pyplot as plt\n",
        "from sklearn import datasets"
      ]
    },
    {
      "cell_type": "markdown",
      "source": [
        "**make_regression()** : Generate a random regression problem.\n",
        "\n",
        "### Pytorch model expects input and output as torch and not np array\n"
      ],
      "metadata": {
        "id": "Y_KN1xHqFTc_"
      }
    },
    {
      "cell_type": "markdown",
      "source": [
        "# Linear Regression"
      ],
      "metadata": {
        "id": "1nSJ48TcLVxt"
      }
    },
    {
      "cell_type": "code",
      "source": [
        "X, y = datasets.make_regression(n_samples=100, n_features=1, noise=20, random_state=1)\n",
        "print(type(X), type(y))\n",
        "\n",
        "# Converting to torch\n",
        "X = torch.from_numpy(X.astype(np.float32))\n",
        "y = torch.from_numpy(y.astype(np.float32))\n",
        "print(type(X), type(y))\n",
        "\n",
        "print(\"Before reshaping, \", X.shape, y.shape)\n",
        "y = y.reshape(y.shape[0], -1)\n",
        "print(\"After reshaping, \", X.shape, y.shape)"
      ],
      "metadata": {
        "colab": {
          "base_uri": "https://localhost:8080/"
        },
        "id": "uBsxbnRPcXBZ",
        "outputId": "afc2dc3d-3452-421e-c346-af714a81cdd6"
      },
      "execution_count": 2,
      "outputs": [
        {
          "output_type": "stream",
          "name": "stdout",
          "text": [
            "<class 'numpy.ndarray'> <class 'numpy.ndarray'>\n",
            "<class 'torch.Tensor'> <class 'torch.Tensor'>\n",
            "Before reshaping,  torch.Size([100, 1]) torch.Size([100])\n",
            "After reshaping,  torch.Size([100, 1]) torch.Size([100, 1])\n"
          ]
        }
      ]
    },
    {
      "cell_type": "code",
      "source": [
        "n_samples, n_features = X.shape\n",
        "\n",
        "model = nn.Linear(in_features=n_features, out_features=1)\n",
        "\n",
        "n_epochs = 500\n",
        "lr = 0.01\n",
        "# Loss\n",
        "criterion = nn.MSELoss()\n",
        "# Optimizer\n",
        "optimizer = torch.optim.SGD(params=model.parameters(), lr=lr)\n",
        "\n",
        "for epoch in range(1, n_epochs+1):\n",
        "    # Fwd pass\n",
        "    y_pred = model(X)\n",
        "    # Calculate loss\n",
        "    loss = criterion(y_pred, y)\n",
        "    # Backward pass\n",
        "    loss.backward()\n",
        "    # Weights update\n",
        "    optimizer.step()\n",
        "    # Emptying gradients\n",
        "    optimizer.zero_grad()\n",
        "\n",
        "    if epoch%100==0:\n",
        "        print(f\"Epoch {epoch}/{n_epochs} loss={loss.item():.5f}\")\n"
      ],
      "metadata": {
        "colab": {
          "base_uri": "https://localhost:8080/"
        },
        "id": "zIuiZhbXc1z2",
        "outputId": "812c7ce2-7c9a-4e18-d496-642f749b9685"
      },
      "execution_count": 3,
      "outputs": [
        {
          "output_type": "stream",
          "name": "stdout",
          "text": [
            "Epoch 100/500 loss=558.55072\n",
            "Epoch 200/500 loss=342.36520\n",
            "Epoch 300/500 loss=333.00027\n",
            "Epoch 400/500 loss=332.58679\n",
            "Epoch 500/500 loss=332.56848\n"
          ]
        }
      ]
    },
    {
      "cell_type": "markdown",
      "source": [
        "Plotting values\n",
        "___\n",
        "By default, **model(X).required_grad=True**. So, we have to manually disable it\n"
      ],
      "metadata": {
        "id": "1ycHQ8CfgVuE"
      }
    },
    {
      "cell_type": "code",
      "source": [
        "# We don't want to perform operations on computation graph now\n",
        "predicted = model(X).detach()\n",
        "\n",
        "plt.plot(X, y, 'ro', label='Actual')\n",
        "plt.plot(X, predicted, 'b', label='Predicted')\n",
        "\n",
        "plt.xlabel('X')\n",
        "plt.ylabel('y')\n",
        "plt.title('Actual vs Predicted')\n",
        "\n",
        "# Add legend\n",
        "plt.legend()\n",
        "\n",
        "plt.show()"
      ],
      "metadata": {
        "id": "ogBduIbDgYCd",
        "colab": {
          "base_uri": "https://localhost:8080/",
          "height": 472
        },
        "outputId": "e05d917b-38b7-40fd-fa23-d777660122e9"
      },
      "execution_count": 4,
      "outputs": [
        {
          "output_type": "display_data",
          "data": {
            "text/plain": [
              "<Figure size 640x480 with 1 Axes>"
            ],
            "image/png": "[encoded data removed]"
          },
          "metadata": {}
        }
      ]
    },
    {
      "cell_type": "markdown",
      "source": [
        "# Logistic Regression"
      ],
      "metadata": {
        "id": "OwuAfW_3Grbb"
      }
    },
    {
      "cell_type": "code",
      "source": [
        "import torch\n",
        "import torch.nn as nn\n",
        "import numpy as np\n",
        "import matplotlib.pyplot as plt\n",
        "from sklearn import datasets\n",
        "from sklearn.preprocessing import StandardScaler\n",
        "from sklearn.model_selection import train_test_split"
      ],
      "metadata": {
        "id": "51QS2p0yF-ud"
      },
      "execution_count": 5,
      "outputs": []
    },
    {
      "cell_type": "code",
      "source": [
        "bc = datasets.load_breast_cancer()\n",
        "X, y = bc.data, bc.target\n",
        "\n",
        "print(type(X), type(y))\n",
        "\n",
        "# Changing types\n",
        "X = torch.from_numpy(X.astype(np.float32))\n",
        "y = torch.from_numpy(y.astype(np.float32))\n",
        "\n",
        "print(f\"Before reshaping = {X.shape}, {y.shape}\")\n",
        "y = y.reshape(y.shape[0], -1)\n",
        "print(f\"After reshaping = {X.shape}, {y.shape}\")"
      ],
      "metadata": {
        "colab": {
          "base_uri": "https://localhost:8080/"
        },
        "id": "IuumFMB4HZ7M",
        "outputId": "8ecc9b39-94c3-4b6a-f54b-2f2f876c3be4"
      },
      "execution_count": 6,
      "outputs": [
        {
          "output_type": "stream",
          "name": "stdout",
          "text": [
            "<class 'numpy.ndarray'> <class 'numpy.ndarray'>\n",
            "Before reshaping = torch.Size([569, 30]), torch.Size([569])\n",
            "After reshaping = torch.Size([569, 30]), torch.Size([569, 1])\n"
          ]
        }
      ]
    },
    {
      "cell_type": "code",
      "source": [
        "n_samples, n_features = X.shape\n",
        "print(n_samples, n_features)\n",
        "\n",
        "X_train, X_test, y_train, y_test = train_test_split(X, y, test_size=0.2, random_state=1234)"
      ],
      "metadata": {
        "id": "lTZJ9L9eHky6",
        "colab": {
          "base_uri": "https://localhost:8080/"
        },
        "outputId": "e9bad376-aef4-47b6-ddd4-bb21acc0e340"
      },
      "execution_count": 7,
      "outputs": [
        {
          "output_type": "stream",
          "name": "stdout",
          "text": [
            "569 30\n"
          ]
        }
      ]
    },
    {
      "cell_type": "markdown",
      "source": [
        "### Scaling the features with 0 mean and unit variance\n",
        "\n",
        "Scaling will result ouput in numpy array. So perform standardisation before casting to tensor"
      ],
      "metadata": {
        "id": "mz0eFqG2ICyP"
      }
    },
    {
      "cell_type": "code",
      "source": [
        "sc = StandardScaler()\n",
        "\n",
        "X_train_scaled = sc.fit_transform(X_train)\n",
        "X_test_scaled = sc.transform(X_test)"
      ],
      "metadata": {
        "id": "TiUi1y-KICTq"
      },
      "execution_count": 8,
      "outputs": []
    },
    {
      "cell_type": "markdown",
      "source": [
        "### Defining Model"
      ],
      "metadata": {
        "id": "2O5bhQaoJE0_"
      }
    },
    {
      "cell_type": "code",
      "source": [
        "class LogisticRegression(nn.Module):\n",
        "    def __init__(self, in_features):\n",
        "        super(LogisticRegression, self).__init__()\n",
        "        self.linear = nn.Linear(in_features=in_features, out_features=1)\n",
        "\n",
        "    def forward(self, x):\n",
        "        y_pred = self.linear(x)\n",
        "        return torch.sigmoid(y_pred)"
      ],
      "metadata": {
        "id": "hSzjJKSsJJ2W"
      },
      "execution_count": 9,
      "outputs": []
    },
    {
      "cell_type": "code",
      "source": [
        "model = LogisticRegression(n_features)\n",
        "\n",
        "n_epochs = 1000\n",
        "lr = 0.001\n",
        "# Binary Cross Entropy loss\n",
        "criterion = nn.BCELoss()\n",
        "# Optimizer\n",
        "optimizer = torch.optim.Adam(model.parameters(), lr=lr)\n",
        "\n",
        "for epoch in range(1, n_epochs+1):\n",
        "    y_pred = model(X_train)\n",
        "    loss = criterion(y_pred, y_train)\n",
        "    loss.backward()\n",
        "    optimizer.step()\n",
        "    optimizer.zero_grad()\n",
        "\n",
        "    if epoch%100==0:\n",
        "        print(f\"Epoch {epoch}/{n_epochs}, Loss = {loss.item():.5f}\")\n"
      ],
      "metadata": {
        "colab": {
          "base_uri": "https://localhost:8080/"
        },
        "id": "VbK6IAY7KDtY",
        "outputId": "026a7317-a1b1-4413-e925-afa7e859cac2"
      },
      "execution_count": 14,
      "outputs": [
        {
          "output_type": "stream",
          "name": "stdout",
          "text": [
            "Epoch 100/1000, Loss = 0.69725\n",
            "Epoch 200/1000, Loss = 0.53199\n",
            "Epoch 300/1000, Loss = 0.42127\n",
            "Epoch 400/1000, Loss = 0.33654\n",
            "Epoch 500/1000, Loss = 0.27629\n",
            "Epoch 600/1000, Loss = 0.23418\n",
            "Epoch 700/1000, Loss = 0.20514\n",
            "Epoch 800/1000, Loss = 0.18530\n",
            "Epoch 900/1000, Loss = 0.17183\n",
            "Epoch 1000/1000, Loss = 0.16266\n"
          ]
        }
      ]
    },
    {
      "cell_type": "markdown",
      "source": [
        "### Getting Test accuracy"
      ],
      "metadata": {
        "id": "EP6RbUd8N8m5"
      }
    },
    {
      "cell_type": "code",
      "source": [
        "num_samples = y_test.shape[0]\n",
        "with torch.no_grad():\n",
        "    y_predicted = model(X_test)\n",
        "    y_pred_class = y_predicted.round()\n",
        "\n",
        "    total_correct_predictions = y_pred_class.eq(y_test).sum()\n",
        "    acc = total_correct_predictions / num_samples\n",
        "\n",
        "    print(f\"Test Accuracy = {acc*100:.3f}%\")"
      ],
      "metadata": {
        "colab": {
          "base_uri": "https://localhost:8080/"
        },
        "id": "M77hLGvFKd8t",
        "outputId": "29a4791b-721d-4ba6-a501-f24fa2006439"
      },
      "execution_count": 15,
      "outputs": [
        {
          "output_type": "stream",
          "name": "stdout",
          "text": [
            "Test Accuracy = 92.105%\n"
          ]
        }
      ]
    },
    {
      "cell_type": "code",
      "source": [],
      "metadata": {
        "id": "iTJXqhRjOLTp"
      },
      "execution_count": 11,
      "outputs": []
    }
  ]
}