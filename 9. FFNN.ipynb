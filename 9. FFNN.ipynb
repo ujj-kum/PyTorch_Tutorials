{
  "nbformat": 4,
  "nbformat_minor": 0,
  "metadata": {
    "colab": {
      "provenance": [],
      "gpuType": "T4"
    },
    "kernelspec": {
      "name": "python3",
      "display_name": "Python 3"
    },
    "language_info": {
      "name": "python"
    },
    "accelerator": "GPU"
  },
  "cells": [
    {
      "cell_type": "code",
      "execution_count": 1,
      "metadata": {
        "id": "Zzlu-4srhO-1"
      },
      "outputs": [],
      "source": [
        "import torch\n",
        "from torch.utils.data import DataLoader\n",
        "import torch.nn as nn\n",
        "import torchvision\n",
        "import torchvision.transforms as transforms\n",
        "import matplotlib.pyplot as plt\n",
        "import numpy as np"
      ]
    },
    {
      "cell_type": "code",
      "source": [
        "device = torch.device('cuda') if torch.cuda.is_available() else 'cpu'"
      ],
      "metadata": {
        "id": "yvYV5zTUmPCe"
      },
      "execution_count": 2,
      "outputs": []
    },
    {
      "cell_type": "code",
      "source": [
        "# Hyperparameters\n",
        "input_features = 28*28\n",
        "hidden_features = 100\n",
        "num_classes = 10\n",
        "num_epochs = 2\n",
        "batch_size = 100\n",
        "learning_rate = 0.001"
      ],
      "metadata": {
        "id": "UtABJMZsmh7k"
      },
      "execution_count": 3,
      "outputs": []
    },
    {
      "cell_type": "markdown",
      "source": [
        "### Loading MNIST dataset"
      ],
      "metadata": {
        "id": "yd0ZQQjjmwg-"
      }
    },
    {
      "cell_type": "code",
      "source": [
        "train_dataset = torchvision.datasets.MNIST(\n",
        "    root='./data',\n",
        "    train=True,\n",
        "    transform=transforms.ToTensor(),\n",
        "    download=True)\n",
        "\n",
        "test_dataset = torchvision.datasets.MNIST(\n",
        "    root='./data',\n",
        "    train=False,\n",
        "    transform=transforms.ToTensor())"
      ],
      "metadata": {
        "id": "2V4w9rzYmvWI"
      },
      "execution_count": 4,
      "outputs": []
    },
    {
      "cell_type": "code",
      "source": [
        "train_loader = DataLoader(\n",
        "    dataset=train_dataset,\n",
        "    batch_size=batch_size,\n",
        "    shuffle=True\n",
        ")\n",
        "\n",
        "test_loader = DataLoader(\n",
        "    dataset=test_dataset,\n",
        "    batch_size=batch_size,\n",
        "    shuffle=False\n",
        ")"
      ],
      "metadata": {
        "id": "8nVzkmNInQe9"
      },
      "execution_count": 5,
      "outputs": []
    },
    {
      "cell_type": "markdown",
      "source": [
        "**sample** contains 100 data samples because batch size=100. Each datapoint is 1\\*28\\*28 because only 1 channel is present.\n",
        "\n",
        "labels  contains 100 elements."
      ],
      "metadata": {
        "id": "7O3WDqm8oZR3"
      }
    },
    {
      "cell_type": "code",
      "source": [
        "dataiter = iter(train_loader)\n",
        "samples, labels = next(dataiter)\n",
        "\n",
        "print(np.array(samples).shape)\n",
        "print(np.array(labels).shape)\n",
        "print(\"No. of iterations = \",len(train_loader)) # Total Images/Batch_size = 60,000/100 = 600"
      ],
      "metadata": {
        "colab": {
          "base_uri": "https://localhost:8080/"
        },
        "id": "G3Qqc7kTny73",
        "outputId": "0aec7c07-297e-49bd-cf2f-cdc949648c14"
      },
      "execution_count": 6,
      "outputs": [
        {
          "output_type": "stream",
          "name": "stdout",
          "text": [
            "(100, 1, 28, 28)\n",
            "(100,)\n",
            "No. of iterations =  600\n"
          ]
        }
      ]
    },
    {
      "cell_type": "markdown",
      "source": [
        "### Visualizing data"
      ],
      "metadata": {
        "id": "VIq2HtYkqGp3"
      }
    },
    {
      "cell_type": "code",
      "source": [
        "print(f\"1st 6 images are(Changes everytime) = {labels[:6]}\")\n",
        "\n",
        "for i in range(6):\n",
        "    plt.subplot(1, 6, i+1)\n",
        "    plt.imshow(samples[i][0], cmap='gray')\n",
        "plt.show()"
      ],
      "metadata": {
        "colab": {
          "base_uri": "https://localhost:8080/",
          "height": 152
        },
        "id": "rBTxww3oqaRW",
        "outputId": "5806a4ae-efa3-4c27-8ed0-a06530a51659"
      },
      "execution_count": 7,
      "outputs": [
        {
          "output_type": "stream",
          "name": "stdout",
          "text": [
            "1st 6 images are(Changes everytime) = tensor([8, 7, 0, 9, 4, 1])\n"
          ]
        },
        {
          "output_type": "display_data",
          "data": {
            "text/plain": [
              "<Figure size 640x480 with 6 Axes>"
            ],
            "image/png": "[encoded data removed]"
          },
          "metadata": {}
        }
      ]
    },
    {
      "cell_type": "markdown",
      "source": [
        "### Model"
      ],
      "metadata": {
        "id": "XLjpoWEMsZ00"
      }
    },
    {
      "cell_type": "code",
      "source": [
        "class NeuralNetwork(nn.Module):\n",
        "    def __init__(self, input_features, hidden_features, num_classes=10):\n",
        "        super(NeuralNetwork, self).__init__()\n",
        "        self.linear1 = nn.Linear(in_features=input_features, out_features=hidden_features)\n",
        "        self.relu = nn.ReLU()\n",
        "        self.linear2 = nn.Linear(in_features=hidden_features, out_features=num_classes)\n",
        "\n",
        "    def forward(self, x):\n",
        "        out1 = self.linear1(x)\n",
        "        out2 = self.relu(out1)\n",
        "        out3 = self.linear2(out2)\n",
        "        return out3"
      ],
      "metadata": {
        "id": "qMRH4YhZrOQO"
      },
      "execution_count": 8,
      "outputs": []
    },
    {
      "cell_type": "markdown",
      "source": [
        "images shape is **(100, 1, 28, 28)**. But model expects it in shape **(100, 784)**. So, we have to reshape the data."
      ],
      "metadata": {
        "id": "fsKBq3cevIVn"
      }
    },
    {
      "cell_type": "code",
      "source": [
        "model = NeuralNetwork(input_features=input_features, hidden_features=hidden_features, num_classes=num_classes).to(device)\n",
        "\n",
        "criterion = nn.CrossEntropyLoss()\n",
        "optimizer = torch.optim.Adam(model.parameters(), lr=learning_rate)\n",
        "\n",
        "# Train loop\n",
        "# This denotes the number of batches\n",
        "n_total_steps = len(train_loader)\n",
        "\n",
        "for epoch in range(1, num_epochs+1):\n",
        "    for step, (images, labels) in enumerate(train_loader):\n",
        "       images = images.reshape(-1, images.shape[2]*images.shape[3]).to(device) # Shape => (100, 784)\n",
        "       labels = labels.to(device) # Shape => (100)\n",
        "\n",
        "       # Forward Pass\n",
        "       outputs = model(images)\n",
        "       loss = criterion(outputs, labels)\n",
        "\n",
        "       # Backward pass\n",
        "       optimizer.zero_grad()\n",
        "       loss.backward()\n",
        "       optimizer.step()\n",
        "\n",
        "       # Getting Accuracy\n",
        "       _, preds = torch.max(input=outputs, dim=1)\n",
        "       tot_correct_pred = (labels==preds).sum().item()\n",
        "       acc = tot_correct_pred/labels.shape[0]\n",
        "\n",
        "       if (step+1)%100==0:\n",
        "        print(f\"Epoch {epoch}/{num_epochs}, Step {step+1}/{n_total_steps}, Loss = {loss.item():.4f}, Accuracy = {acc:.4f}\")\n"
      ],
      "metadata": {
        "colab": {
          "base_uri": "https://localhost:8080/"
        },
        "id": "gj-wI9qftjBA",
        "outputId": "3655617b-46e8-4df7-c486-84f6e944597c"
      },
      "execution_count": 9,
      "outputs": [
        {
          "output_type": "stream",
          "name": "stdout",
          "text": [
            "Epoch 1/2, Step 100/600, Loss = 0.5255, Accuracy = 0.8000\n",
            "Epoch 1/2, Step 200/600, Loss = 0.3826, Accuracy = 0.9200\n",
            "Epoch 1/2, Step 300/600, Loss = 0.2594, Accuracy = 0.9300\n",
            "Epoch 1/2, Step 400/600, Loss = 0.4323, Accuracy = 0.9100\n",
            "Epoch 1/2, Step 500/600, Loss = 0.2459, Accuracy = 0.9300\n",
            "Epoch 1/2, Step 600/600, Loss = 0.2088, Accuracy = 0.9400\n",
            "Epoch 2/2, Step 100/600, Loss = 0.1857, Accuracy = 0.9300\n",
            "Epoch 2/2, Step 200/600, Loss = 0.1465, Accuracy = 0.9700\n",
            "Epoch 2/2, Step 300/600, Loss = 0.1424, Accuracy = 0.9500\n",
            "Epoch 2/2, Step 400/600, Loss = 0.1313, Accuracy = 0.9600\n",
            "Epoch 2/2, Step 500/600, Loss = 0.1631, Accuracy = 0.9500\n",
            "Epoch 2/2, Step 600/600, Loss = 0.1152, Accuracy = 0.9500\n"
          ]
        }
      ]
    },
    {
      "cell_type": "markdown",
      "source": [
        "### Testing and Evaluation"
      ],
      "metadata": {
        "id": "plQufUL_xMC0"
      }
    },
    {
      "cell_type": "code",
      "source": [
        "with torch.no_grad():\n",
        "    n_correct = 0\n",
        "    n_samples = 0\n",
        "    for images, labels in test_loader:\n",
        "       images = images.reshape(-1, images.shape[2]*images.shape[3]).to(device)\n",
        "       labels = labels.to(device)\n",
        "\n",
        "       outputs = model(images)\n",
        "       _, predictions = torch.max(outputs, dim=1)\n",
        "       n_samples += labels.shape[0]\n",
        "       n_correct += (predictions==labels).sum().item()\n",
        "\n",
        "    accuracy = 100.0*n_correct / n_samples\n",
        "    print(\"Test Accuracy = \", accuracy)\n"
      ],
      "metadata": {
        "colab": {
          "base_uri": "https://localhost:8080/"
        },
        "id": "nv7FVvPUwdX2",
        "outputId": "77f47999-0d7f-447c-cfa9-3309da76910b"
      },
      "execution_count": 10,
      "outputs": [
        {
          "output_type": "stream",
          "name": "stdout",
          "text": [
            "Test Accuracy =  95.49\n"
          ]
        }
      ]
    },
    {
      "cell_type": "code",
      "source": [],
      "metadata": {
        "id": "5GnbFSK-yWKf"
      },
      "execution_count": 10,
      "outputs": []
    }
  ]
}