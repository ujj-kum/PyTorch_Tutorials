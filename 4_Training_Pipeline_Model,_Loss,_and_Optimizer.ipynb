{
  "nbformat": 4,
  "nbformat_minor": 0,
  "metadata": {
    "colab": {
      "provenance": []
    },
    "kernelspec": {
      "name": "python3",
      "display_name": "Python 3"
    },
    "language_info": {
      "name": "python"
    }
  },
  "cells": [
    {
      "cell_type": "markdown",
      "source": [
        "### Structure of a PyTorch model\n",
        "\n",
        "1. Design Model (input_size, output_size, forward_pass)\n",
        "\n",
        "2. Construct Loss and Optimizer\n",
        "\n",
        "3. Training Loop\n",
        "\n",
        " a. Forward pass\n",
        "\n",
        " b. Backward pass\n",
        "\n",
        " c. Update Weights\n"
      ],
      "metadata": {
        "id": "AUdIbDLSMAdV"
      }
    },
    {
      "cell_type": "code",
      "execution_count": null,
      "metadata": {
        "id": "-MctBtUAL5YW"
      },
      "outputs": [],
      "source": [
        "import torch\n",
        "import torch.nn as nn"
      ]
    },
    {
      "cell_type": "code",
      "source": [
        "X = torch.tensor([1, 2, 3, 4], dtype=torch.float32)\n",
        "y = 2*X\n",
        "\n",
        "w = torch.tensor(0.0, dtype=torch.float32, requires_grad=True)"
      ],
      "metadata": {
        "id": "aMk4OA9eMpqb"
      },
      "execution_count": null,
      "outputs": []
    },
    {
      "cell_type": "code",
      "source": [
        "def forward(x):\n",
        "    return w*x"
      ],
      "metadata": {
        "id": "kVdzCywrM4Se"
      },
      "execution_count": null,
      "outputs": []
    },
    {
      "cell_type": "code",
      "source": [
        "lr = 0.01\n",
        "n_iters = 100\n",
        "\n",
        "loss = nn.MSELoss()\n",
        "optimizer = torch.optim.SGD(params=[w], lr=lr)\n",
        "\n",
        "for epoch in range(n_iters):\n",
        "    y_pred = forward(X)\n",
        "\n",
        "    l = loss(y, y_pred)\n",
        "\n",
        "    # Calculating gradient automatically\n",
        "    # dl/dw\n",
        "    l.backward()\n",
        "\n",
        "    # Earlier\n",
        "    # with torch.no_grad():\n",
        "    #     w -= lr*w.grad\n",
        "    # w.grad.zero_()\n",
        "    optimizer.step()\n",
        "    optimizer.zero_grad\n",
        "\n",
        "    if epoch%10==0:\n",
        "        print(f\"Epoch {epoch+1}: w = {w:.3f}, loss={l:.5f}\")\n",
        "\n",
        "print(f\"Prediction after training:\\nf(5) = {forward(5):.3f}\")"
      ],
      "metadata": {
        "colab": {
          "base_uri": "https://localhost:8080/"
        },
        "id": "uQNeruJYM7aW",
        "outputId": "4f1f32e4-6b25-4c4e-b1b9-a1d61970cc06"
      },
      "execution_count": null,
      "outputs": [
        {
          "output_type": "stream",
          "name": "stdout",
          "text": [
            "Epoch 1: w = 2.086, loss=3.61824\n",
            "Epoch 11: w = 0.540, loss=4.91462\n",
            "Epoch 21: w = 4.038, loss=26.29724\n",
            "Epoch 31: w = 0.494, loss=27.51260\n",
            "Epoch 41: w = 2.154, loss=6.27274\n",
            "Epoch 51: w = 3.283, loss=2.56241\n",
            "Epoch 61: w = -0.020, loss=23.36642\n",
            "Epoch 71: w = 3.657, loss=29.52053\n",
            "Epoch 81: w = 1.609, loss=9.43941\n",
            "Epoch 91: w = 0.912, loss=0.92646\n",
            "Prediction after training:\n",
            "f(5) = 18.167\n"
          ]
        }
      ]
    },
    {
      "cell_type": "markdown",
      "source": [
        "### Instead of manual **forward()**, we can use **nn.Linear()**\n",
        "\n",
        "No. of Rows = No. of Samples\n",
        "\n",
        "No. of Columns = No. of Features\n",
        "\n",
        "Here we have 4 samples and each sample has 1 feature"
      ],
      "metadata": {
        "id": "LQch226uSShf"
      }
    },
    {
      "cell_type": "code",
      "source": [
        "X = torch.tensor([1, 2, 3, 4], dtype=torch.float32).reshape(4, -1)\n",
        "y = 2*X\n",
        "print(X)\n",
        "print(X.shape, y.shape)"
      ],
      "metadata": {
        "id": "Xx-d4O2SOlFQ",
        "colab": {
          "base_uri": "https://localhost:8080/"
        },
        "outputId": "371a5038-6b35-4849-e55f-7425e330b995"
      },
      "execution_count": null,
      "outputs": [
        {
          "output_type": "stream",
          "name": "stdout",
          "text": [
            "tensor([[1.],\n",
            "        [2.],\n",
            "        [3.],\n",
            "        [4.]])\n",
            "torch.Size([4, 1]) torch.Size([4, 1])\n"
          ]
        }
      ]
    },
    {
      "cell_type": "code",
      "source": [
        "n_samples, n_features = X.shape\n",
        "\n",
        "model = nn.Linear(in_features=n_features, out_features=n_features)"
      ],
      "metadata": {
        "id": "3Nqy5FYHSgHU"
      },
      "execution_count": null,
      "outputs": []
    },
    {
      "cell_type": "markdown",
      "source": [
        "Now input will be in the form of a tensor and not a float value"
      ],
      "metadata": {
        "id": "cEWYdvnjU_2f"
      }
    },
    {
      "cell_type": "code",
      "source": [
        "input_sample = torch.tensor([5], dtype=torch.float32)\n",
        "print(f\"Prediction before training:\\nf(5) = {model(input_sample).item():.3f}\")"
      ],
      "metadata": {
        "colab": {
          "base_uri": "https://localhost:8080/"
        },
        "id": "r-VSLiYUUvxJ",
        "outputId": "9268e1d4-5bf9-40e0-eb0a-9d8db82e38e1"
      },
      "execution_count": null,
      "outputs": [
        {
          "output_type": "stream",
          "name": "stdout",
          "text": [
            "Prediction before training:\n",
            "f(5) = -2.255\n"
          ]
        }
      ]
    },
    {
      "cell_type": "markdown",
      "source": [
        "**w** is a 2D matrix which typically represents the weight matrix for a fully connected layer (e.g., nn.Linear), where each entry w[i][j] corresponds to the weight connecting the j-th input feature to the i-th output feature."
      ],
      "metadata": {
        "id": "S7ZOYlybYHrp"
      }
    },
    {
      "cell_type": "code",
      "source": [
        "lr = 0.01\n",
        "n_iters = 100\n",
        "\n",
        "loss = nn.MSELoss()\n",
        "optimizer = torch.optim.SGD(params=model.parameters(), lr=lr)\n",
        "\n",
        "for epoch in range(n_iters):\n",
        "    y_pred = model(X)\n",
        "\n",
        "    l = loss(y, y_pred)\n",
        "\n",
        "    # Calculating gradient automatically\n",
        "    # dl/dw\n",
        "    l.backward()\n",
        "\n",
        "    # Earlier\n",
        "    # with torch.no_grad():\n",
        "    #     w -= lr*w.grad\n",
        "    # w.grad.zero_()\n",
        "    optimizer.step()\n",
        "    optimizer.zero_grad\n",
        "\n",
        "    if epoch%10==0:\n",
        "        [w, b] = model.parameters()\n",
        "        print(f\"Epoch {epoch+1}: w = {w[0][0].item():.3f}, loss={l:.5f}\")\n",
        "\n",
        "print(f\"Prediction after training:\\nf(5) = {model(input_sample).item():.3f}\")"
      ],
      "metadata": {
        "colab": {
          "base_uri": "https://localhost:8080/"
        },
        "id": "-sk_N8RaVMq4",
        "outputId": "190bb395-db5e-46e7-8b20-2dc6dc88eb33"
      },
      "execution_count": null,
      "outputs": [
        {
          "output_type": "stream",
          "name": "stdout",
          "text": [
            "Epoch 1: w = 2.174, loss=7.86636\n",
            "Epoch 11: w = 3.909, loss=13.19304\n",
            "Epoch 21: w = -0.172, loss=47.32587\n",
            "Epoch 31: w = 2.335, loss=16.84986\n",
            "Epoch 41: w = 3.312, loss=5.22559\n",
            "Epoch 51: w = -0.439, loss=44.31812\n",
            "Epoch 61: w = 2.839, loss=27.13348\n",
            "Epoch 71: w = 3.116, loss=0.64298\n",
            "Epoch 81: w = -0.151, loss=37.29790\n",
            "Epoch 91: w = 3.582, loss=36.79858\n",
            "Prediction after training:\n",
            "f(5) = 9.225\n"
          ]
        }
      ]
    },
    {
      "cell_type": "markdown",
      "source": [
        "### Using custom model"
      ],
      "metadata": {
        "id": "gI4dhW8uZiva"
      }
    },
    {
      "cell_type": "code",
      "source": [
        "class LinearRegression(nn.Module):\n",
        "    def __init__(self, in_features, out_features):\n",
        "        super(LinearRegression, self).__init__()\n",
        "\n",
        "        # Define layers\n",
        "        self.linear = nn.Linear(in_features=in_features, out_features=out_features)\n",
        "\n",
        "    def forward(self, x):\n",
        "        return self.linear(x)"
      ],
      "metadata": {
        "id": "k8fvTvqiW4DE"
      },
      "execution_count": null,
      "outputs": []
    },
    {
      "cell_type": "code",
      "source": [
        "model = LinearRegression(in_features=n_features, out_features=n_features)\n",
        "\n",
        "lr = 0.01\n",
        "n_iters = 100\n",
        "\n",
        "loss = nn.MSELoss()\n",
        "optimizer = torch.optim.SGD(params=model.parameters(), lr=lr)\n",
        "\n",
        "for epoch in range(n_iters):\n",
        "    y_pred = model(X)\n",
        "\n",
        "    l = loss(y, y_pred)\n",
        "\n",
        "    # Calculating gradient automatically\n",
        "    # dl/dw\n",
        "    l.backward()\n",
        "\n",
        "    # Earlier\n",
        "    # with torch.no_grad():\n",
        "    #     w -= lr*w.grad\n",
        "    # w.grad.zero_()\n",
        "    optimizer.step()\n",
        "    optimizer.zero_grad\n",
        "\n",
        "    if epoch%10==0:\n",
        "        [w, b] = model.parameters()\n",
        "        print(f\"Epoch {epoch+1}: w = {w[0][0].item():.3f}, loss={l:.5f}\")\n",
        "\n",
        "print(f\"Prediction after training:\\nf(5) = {model(input_sample).item():.3f}\")"
      ],
      "metadata": {
        "colab": {
          "base_uri": "https://localhost:8080/"
        },
        "id": "wM4maXwfZ6Ca",
        "outputId": "cdb727c6-9fd9-464e-9a2b-3b6781324057"
      },
      "execution_count": null,
      "outputs": [
        {
          "output_type": "stream",
          "name": "stdout",
          "text": [
            "Epoch 1: w = -0.379, loss=60.94784\n",
            "Epoch 11: w = 1.744, loss=9.28775\n",
            "Epoch 21: w = 4.093, loss=19.26826\n",
            "Epoch 31: w = -0.369, loss=63.49763\n",
            "Epoch 41: w = 2.678, loss=20.90396\n",
            "Epoch 51: w = 4.065, loss=8.10868\n",
            "Epoch 61: w = -0.325, loss=60.20470\n",
            "Epoch 71: w = 3.241, loss=34.63404\n",
            "Epoch 81: w = 3.440, loss=1.31691\n",
            "Epoch 91: w = -0.682, loss=51.36257\n",
            "Prediction after training:\n",
            "f(5) = 21.725\n"
          ]
        }
      ]
    },
    {
      "cell_type": "code",
      "source": [],
      "metadata": {
        "id": "7lzTqISMaOSJ"
      },
      "execution_count": null,
      "outputs": []
    }
  ]
}