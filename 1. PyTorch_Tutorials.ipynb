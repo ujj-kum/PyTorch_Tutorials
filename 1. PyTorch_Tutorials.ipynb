{
  "nbformat": 4,
  "nbformat_minor": 0,
  "metadata": {
    "colab": {
      "provenance": [],
      "gpuType": "T4"
    },
    "kernelspec": {
      "name": "python3",
      "display_name": "Python 3"
    },
    "language_info": {
      "name": "python"
    },
    "accelerator": "GPU"
  },
  "cells": [
    {
      "cell_type": "code",
      "execution_count": 1,
      "metadata": {
        "id": "ODMZR0NI8jyS"
      },
      "outputs": [],
      "source": [
        "import torch\n",
        "import numpy as np"
      ]
    },
    {
      "cell_type": "code",
      "source": [
        "print(torch.cuda.is_available())\n",
        "\n",
        "device = torch.device('cuda' if torch.cuda.is_available() else \"cpu\")\n",
        "print(f\"{device} is being used\")"
      ],
      "metadata": {
        "colab": {
          "base_uri": "https://localhost:8080/"
        },
        "id": "4Wv5Vqn38ozL",
        "outputId": "a8e10ea9-c123-4967-fe54-087aeb4fa9f4"
      },
      "execution_count": 2,
      "outputs": [
        {
          "output_type": "stream",
          "name": "stdout",
          "text": [
            "True\n",
            "cuda is being used\n"
          ]
        }
      ]
    },
    {
      "cell_type": "markdown",
      "source": [
        "### Creating Tensors\n",
        "_________\n",
        "**empty()** does not actually produce empty array. But generates random values. More efficient than **zeros() or ones()**"
      ],
      "metadata": {
        "id": "897pYJC--dyw"
      }
    },
    {
      "cell_type": "code",
      "source": [
        "# Creating an empty tensor\n",
        "x = torch.empty(size=(1, ))\n",
        "print(x)\n",
        "x = torch.empty(1)\n",
        "print(x)\n",
        "x = torch.empty(size=(2, 3))\n",
        "print(x)"
      ],
      "metadata": {
        "colab": {
          "base_uri": "https://localhost:8080/"
        },
        "id": "iEHLqGYg8rD3",
        "outputId": "c429e148-4c5a-4e80-f9db-b4ab212b0543"
      },
      "execution_count": 3,
      "outputs": [
        {
          "output_type": "stream",
          "name": "stdout",
          "text": [
            "tensor([2.5223e-44])\n",
            "tensor([-7333176.])\n",
            "tensor([[-1.0200e+06,  3.2063e-41,  2.1174e+17],\n",
            "        [ 4.5137e-41,  0.0000e+00,  0.0000e+00]])\n"
          ]
        }
      ]
    },
    {
      "cell_type": "code",
      "source": [
        "# Creating Random tensors\n",
        "x = torch.rand(2, 2)\n",
        "print(x)\n",
        "x = torch.rand(size=(2, 2))\n",
        "print(x)"
      ],
      "metadata": {
        "colab": {
          "base_uri": "https://localhost:8080/"
        },
        "id": "jhy1VMVF8yvo",
        "outputId": "677b24d6-1173-4d60-a9d9-fb21aef73f00"
      },
      "execution_count": 4,
      "outputs": [
        {
          "output_type": "stream",
          "name": "stdout",
          "text": [
            "tensor([[0.6355, 0.1452],\n",
            "        [0.9962, 0.9902]])\n",
            "tensor([[0.2114, 0.5628],\n",
            "        [0.8578, 0.0769]])\n"
          ]
        }
      ]
    },
    {
      "cell_type": "code",
      "source": [
        "# Tensors with 0s or 1s\n",
        "x = torch.zeros(size=(2, 2), dtype=torch.int32)\n",
        "print(f\"x = {x}, Size =  {x.size()}\")\n",
        "x = torch.ones(size=(2, 2))\n",
        "print(x)"
      ],
      "metadata": {
        "colab": {
          "base_uri": "https://localhost:8080/"
        },
        "id": "uOak4y9x9m0t",
        "outputId": "8271d31b-f907-46a0-ed80-234c01b1a0d4"
      },
      "execution_count": 5,
      "outputs": [
        {
          "output_type": "stream",
          "name": "stdout",
          "text": [
            "x = tensor([[0, 0],\n",
            "        [0, 0]], dtype=torch.int32), Size =  torch.Size([2, 2])\n",
            "tensor([[1., 1.],\n",
            "        [1., 1.]])\n"
          ]
        }
      ]
    },
    {
      "cell_type": "code",
      "source": [
        "# Creating tensor from lists\n",
        "x = torch.tensor([1,2,3,4])\n",
        "print(x)"
      ],
      "metadata": {
        "colab": {
          "base_uri": "https://localhost:8080/"
        },
        "id": "UYeOc0Km90mb",
        "outputId": "1db8a1a5-e657-42d5-9592-40b766b0f56c"
      },
      "execution_count": 6,
      "outputs": [
        {
          "output_type": "stream",
          "name": "stdout",
          "text": [
            "tensor([1, 2, 3, 4])\n"
          ]
        }
      ]
    },
    {
      "cell_type": "markdown",
      "source": [
        "### Basic Tensor Operations"
      ],
      "metadata": {
        "id": "YgYPl8PV-juK"
      }
    },
    {
      "cell_type": "code",
      "source": [
        "x = torch.rand(size=(2, 2))\n",
        "y = torch.rand(size=(2, 2))\n",
        "z = x+y\n",
        "print(z)\n",
        "z = torch.add(x, y)\n",
        "print(z)"
      ],
      "metadata": {
        "colab": {
          "base_uri": "https://localhost:8080/"
        },
        "id": "1s3R5sN4-a5d",
        "outputId": "1a817772-65cb-4858-dfde-0e692ce174bd"
      },
      "execution_count": 7,
      "outputs": [
        {
          "output_type": "stream",
          "name": "stdout",
          "text": [
            "tensor([[0.4318, 0.9143],\n",
            "        [0.6146, 0.1978]])\n",
            "tensor([[0.4318, 0.9143],\n",
            "        [0.6146, 0.1978]])\n"
          ]
        }
      ]
    },
    {
      "cell_type": "code",
      "source": [
        "# Using inplace addition, y's value is changed to the sum\n",
        "y.add_(x)\n",
        "print(y)"
      ],
      "metadata": {
        "colab": {
          "base_uri": "https://localhost:8080/"
        },
        "id": "fBKNyosU-vdS",
        "outputId": "6fe50ef8-c632-4fe9-a0ae-0cc4ef3f4472"
      },
      "execution_count": 8,
      "outputs": [
        {
          "output_type": "stream",
          "name": "stdout",
          "text": [
            "tensor([[0.4318, 0.9143],\n",
            "        [0.6146, 0.1978]])\n"
          ]
        }
      ]
    },
    {
      "cell_type": "code",
      "source": [
        "# Element-wise multiplication\n",
        "z = x*y\n",
        "print(z)\n",
        "z = torch.mul(x, y)\n",
        "print(z)"
      ],
      "metadata": {
        "colab": {
          "base_uri": "https://localhost:8080/"
        },
        "id": "DZqfnVh0_OhL",
        "outputId": "cfd8b781-1bbf-4cef-8c62-a26e356d2e83"
      },
      "execution_count": 9,
      "outputs": [
        {
          "output_type": "stream",
          "name": "stdout",
          "text": [
            "tensor([[0.1229, 0.3876],\n",
            "        [0.3285, 0.0165]])\n",
            "tensor([[0.1229, 0.3876],\n",
            "        [0.3285, 0.0165]])\n"
          ]
        }
      ]
    },
    {
      "cell_type": "code",
      "source": [
        "# Element-wise Division\n",
        "z = x/y\n",
        "print(z)\n",
        "z = torch.div(x, y)\n",
        "print(z)"
      ],
      "metadata": {
        "colab": {
          "base_uri": "https://localhost:8080/"
        },
        "id": "0uJEooXp_f1z",
        "outputId": "d523cec6-a9ee-48f6-f3ed-a3c095e0e7aa"
      },
      "execution_count": 10,
      "outputs": [
        {
          "output_type": "stream",
          "name": "stdout",
          "text": [
            "tensor([[0.6592, 0.4637],\n",
            "        [0.8696, 0.4207]])\n",
            "tensor([[0.6592, 0.4637],\n",
            "        [0.8696, 0.4207]])\n"
          ]
        }
      ]
    },
    {
      "cell_type": "markdown",
      "source": [
        "### Slicing operations"
      ],
      "metadata": {
        "id": "3FNHCgU8_vso"
      }
    },
    {
      "cell_type": "code",
      "source": [
        "x = torch.rand(size=(5, 3))\n",
        "print(x)"
      ],
      "metadata": {
        "colab": {
          "base_uri": "https://localhost:8080/"
        },
        "id": "UzIc87Li_m5z",
        "outputId": "0b789e3b-51dd-4ca2-f153-1ddd13acf2e3"
      },
      "execution_count": 11,
      "outputs": [
        {
          "output_type": "stream",
          "name": "stdout",
          "text": [
            "tensor([[0.5073, 0.3651, 0.7974],\n",
            "        [0.2781, 0.3670, 0.9745],\n",
            "        [0.6344, 0.9622, 0.4619],\n",
            "        [0.8707, 0.8175, 0.2129],\n",
            "        [0.4571, 0.3223, 0.8074]])\n"
          ]
        }
      ]
    },
    {
      "cell_type": "code",
      "source": [
        "# Getting all row for 1st column\n",
        "print(x[:, 0])\n",
        "\n",
        "# Getting all columns for 1st row\n",
        "print(x[0, :])\n",
        "\n",
        "# Getting element at 2nd row and 2nd col\n",
        "print(x[1, 1])"
      ],
      "metadata": {
        "colab": {
          "base_uri": "https://localhost:8080/"
        },
        "id": "hqhavfFM_2Tb",
        "outputId": "cce73835-d3c9-420b-b4de-b29cd0b7fb18"
      },
      "execution_count": 12,
      "outputs": [
        {
          "output_type": "stream",
          "name": "stdout",
          "text": [
            "tensor([0.5073, 0.2781, 0.6344, 0.8707, 0.4571])\n",
            "tensor([0.5073, 0.3651, 0.7974])\n",
            "tensor(0.3670)\n"
          ]
        }
      ]
    },
    {
      "cell_type": "markdown",
      "source": [
        "If tensor has only 1 value, we can use **.item()** to get the actual value"
      ],
      "metadata": {
        "id": "TyhH4ppNAbef"
      }
    },
    {
      "cell_type": "code",
      "source": [
        "print(x[1, 1])\n",
        "print(x[1, 1].item())"
      ],
      "metadata": {
        "colab": {
          "base_uri": "https://localhost:8080/"
        },
        "id": "JIAN3Yvg_-VT",
        "outputId": "816f07ba-60ad-4224-eff5-8ec6101112e7"
      },
      "execution_count": 13,
      "outputs": [
        {
          "output_type": "stream",
          "name": "stdout",
          "text": [
            "tensor(0.3670)\n",
            "0.36701613664627075\n"
          ]
        }
      ]
    },
    {
      "cell_type": "markdown",
      "source": [
        "### Reshaping a tensor"
      ],
      "metadata": {
        "id": "71ZGMqaWApfO"
      }
    },
    {
      "cell_type": "code",
      "source": [
        "x = torch.rand(4, 4)\n",
        "print(x, x.shape)\n",
        "y = x.view(16)\n",
        "print(y, y.shape)"
      ],
      "metadata": {
        "colab": {
          "base_uri": "https://localhost:8080/"
        },
        "id": "fDRNPUOWAm7k",
        "outputId": "c8e1a064-4e75-4ead-d524-9ce0f185cedd"
      },
      "execution_count": 14,
      "outputs": [
        {
          "output_type": "stream",
          "name": "stdout",
          "text": [
            "tensor([[0.1745, 0.1742, 0.5210, 0.3420],\n",
            "        [0.9943, 0.2375, 0.1123, 0.6987],\n",
            "        [0.6777, 0.6530, 0.5122, 0.3255],\n",
            "        [0.6196, 0.5645, 0.9113, 0.2957]]) torch.Size([4, 4])\n",
            "tensor([0.1745, 0.1742, 0.5210, 0.3420, 0.9943, 0.2375, 0.1123, 0.6987, 0.6777,\n",
            "        0.6530, 0.5122, 0.3255, 0.6196, 0.5645, 0.9113, 0.2957]) torch.Size([16])\n"
          ]
        }
      ]
    },
    {
      "cell_type": "code",
      "source": [
        "# Getting 8 columns and number of rows will manage themselves\n",
        "y = x.view(-1, 8)\n",
        "print(y, y.shape)"
      ],
      "metadata": {
        "id": "VkBbb-uHAzHe",
        "colab": {
          "base_uri": "https://localhost:8080/"
        },
        "outputId": "13f98715-1891-46f8-8557-e71e45808389"
      },
      "execution_count": 15,
      "outputs": [
        {
          "output_type": "stream",
          "name": "stdout",
          "text": [
            "tensor([[0.1745, 0.1742, 0.5210, 0.3420, 0.9943, 0.2375, 0.1123, 0.6987],\n",
            "        [0.6777, 0.6530, 0.5122, 0.3255, 0.6196, 0.5645, 0.9113, 0.2957]]) torch.Size([2, 8])\n"
          ]
        }
      ]
    },
    {
      "cell_type": "markdown",
      "source": [
        "NumPy arrays require data to be in the CPU memory. So if the tenor from which array is being created is on GPU, it needs to be transferred to CPU first otherwise will lead to error\n",
        "\n",
        "Then both the tensor and the array will share same memory address"
      ],
      "metadata": {
        "id": "cWilcIWSQhbJ"
      }
    },
    {
      "cell_type": "code",
      "source": [
        "### Conversion from numpy arrays\n",
        "import torch\n",
        "import numpy\n",
        "\n",
        "device = torch.device('cuda' if torch.cuda.is_available() else 'cpu')\n",
        "print(device)\n",
        "\n",
        "try:\n",
        "    a = torch.ones(5)\n",
        "    print(type(a), a)\n",
        "    #a_CPU = a.cpu()\n",
        "    b = a.numpy()\n",
        "    print(type(b), (b))\n",
        "    print(\"In try block1\")\n",
        "\n",
        "except Exception as e:\n",
        "    print(e)\n",
        "\n",
        "try:\n",
        "    a = torch.ones(5).to(device)\n",
        "    print(type(a), a)\n",
        "    #a_CPU = a.cpu()\n",
        "    b = a.numpy()\n",
        "    print(type(b), (b))\n",
        "    print(\"In try block2\")\n",
        "\n",
        "except Exception as e:\n",
        "    print(e)\n",
        "\n",
        "finally:\n",
        "    print(\"*\"*100)\n",
        "    print(\"Corrected Version\")\n",
        "    a = torch.ones(5).to(device)\n",
        "    print(type(a), a)\n",
        "    # Transferred to CPU\n",
        "    a_CPU = a.cpu()\n",
        "    b = a_CPU.numpy()\n",
        "    print(type(b), (b))"
      ],
      "metadata": {
        "colab": {
          "base_uri": "https://localhost:8080/"
        },
        "id": "owvM6SF5ED_8",
        "outputId": "dcdbce46-ff81-416f-ba8f-da88f90c2697"
      },
      "execution_count": 16,
      "outputs": [
        {
          "output_type": "stream",
          "name": "stdout",
          "text": [
            "cuda\n",
            "<class 'torch.Tensor'> tensor([1., 1., 1., 1., 1.])\n",
            "<class 'numpy.ndarray'> [1. 1. 1. 1. 1.]\n",
            "In try block1\n",
            "<class 'torch.Tensor'> tensor([1., 1., 1., 1., 1.], device='cuda:0')\n",
            "can't convert cuda:0 device type tensor to numpy. Use Tensor.cpu() to copy the tensor to host memory first.\n",
            "****************************************************************************************************\n",
            "Corrected Version\n",
            "<class 'torch.Tensor'> tensor([1., 1., 1., 1., 1.], device='cuda:0')\n",
            "<class 'numpy.ndarray'> [1. 1. 1. 1. 1.]\n"
          ]
        }
      ]
    },
    {
      "cell_type": "markdown",
      "source": [
        "Changing 1st wil affect the other"
      ],
      "metadata": {
        "id": "E3CwA6HqFARa"
      }
    },
    {
      "cell_type": "code",
      "source": [
        "a_CPU.add_(1)\n",
        "print(a_CPU)\n",
        "print(b)"
      ],
      "metadata": {
        "colab": {
          "base_uri": "https://localhost:8080/"
        },
        "id": "nyV_EPHHE1iy",
        "outputId": "62d2f337-a27a-4d7d-87d1-4192882ac92f"
      },
      "execution_count": 17,
      "outputs": [
        {
          "output_type": "stream",
          "name": "stdout",
          "text": [
            "tensor([2., 2., 2., 2., 2.])\n",
            "[2. 2. 2. 2. 2.]\n"
          ]
        }
      ]
    },
    {
      "cell_type": "code",
      "source": [
        "a = np.ones(5)\n",
        "print(type(a), a)\n",
        "b = torch.from_numpy(a)\n",
        "print(type(b), b)\n",
        "\n",
        "a = a+1 # Creates new instance of a\n",
        "print(a)\n",
        "print(b)"
      ],
      "metadata": {
        "id": "Bs0fq1TUFH4f",
        "colab": {
          "base_uri": "https://localhost:8080/"
        },
        "outputId": "46434041-3aff-4eb1-c14e-5b965110885a"
      },
      "execution_count": 18,
      "outputs": [
        {
          "output_type": "stream",
          "name": "stdout",
          "text": [
            "<class 'numpy.ndarray'> [1. 1. 1. 1. 1.]\n",
            "<class 'torch.Tensor'> tensor([1., 1., 1., 1., 1.], dtype=torch.float64)\n",
            "[2. 2. 2. 2. 2.]\n",
            "tensor([1., 1., 1., 1., 1.], dtype=torch.float64)\n"
          ]
        }
      ]
    },
    {
      "cell_type": "markdown",
      "source": [
        "Again, they are sharing same memory address"
      ],
      "metadata": {
        "id": "TyVMCAGdSGlM"
      }
    },
    {
      "cell_type": "code",
      "source": [
        "a = np.ones(5)\n",
        "print(type(a), a)\n",
        "b = torch.from_numpy(a)\n",
        "print(type(b), b)\n",
        "\n",
        "a+=1\n",
        "print(a)\n",
        "print(b)"
      ],
      "metadata": {
        "colab": {
          "base_uri": "https://localhost:8080/"
        },
        "id": "aiQLnRMvRsOb",
        "outputId": "7872b373-5376-4280-e95e-79d6da4d088b"
      },
      "execution_count": 19,
      "outputs": [
        {
          "output_type": "stream",
          "name": "stdout",
          "text": [
            "<class 'numpy.ndarray'> [1. 1. 1. 1. 1.]\n",
            "<class 'torch.Tensor'> tensor([1., 1., 1., 1., 1.], dtype=torch.float64)\n",
            "[2. 2. 2. 2. 2.]\n",
            "tensor([2., 2., 2., 2., 2.], dtype=torch.float64)\n"
          ]
        }
      ]
    },
    {
      "cell_type": "code",
      "source": [],
      "metadata": {
        "id": "FWwjIl2TRY9a"
      },
      "execution_count": 19,
      "outputs": []
    }
  ]
}