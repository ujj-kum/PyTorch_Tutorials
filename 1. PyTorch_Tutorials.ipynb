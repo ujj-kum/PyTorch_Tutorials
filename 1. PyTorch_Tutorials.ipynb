{
  "nbformat": 4,
  "nbformat_minor": 0,
  "metadata": {
    "colab": {
      "provenance": [],
      "gpuType": "T4"
    },
    "kernelspec": {
      "name": "python3",
      "display_name": "Python 3"
    },
    "language_info": {
      "name": "python"
    },
    "accelerator": "GPU"
  },
  "cells": [
    {
      "cell_type": "code",
      "execution_count": 1,
      "metadata": {
        "id": "ODMZR0NI8jyS"
      },
      "outputs": [],
      "source": [
        "import torch\n",
        "import numpy as np"
      ]
    },
    {
      "cell_type": "code",
      "source": [
        "print(torch.cuda.is_available())\n",
        "\n",
        "device = torch.device('cuda' if torch.cuda.is_available() else \"cpu\")\n",
        "print(f\"{device} is being used\")"
      ],
      "metadata": {
        "colab": {
          "base_uri": "https://localhost:8080/"
        },
        "id": "4Wv5Vqn38ozL",
        "outputId": "fac104d1-d765-4d30-ea0e-f758ab474dae"
      },
      "execution_count": 2,
      "outputs": [
        {
          "output_type": "stream",
          "name": "stdout",
          "text": [
            "True\n",
            "cuda is being used\n"
          ]
        }
      ]
    },
    {
      "cell_type": "markdown",
      "source": [
        "### Creating Tensors\n",
        "_________\n",
        "**empty()** does not actually produce empty array. But generates random values. More efficient than **zeros() or ones()**"
      ],
      "metadata": {
        "id": "897pYJC--dyw"
      }
    },
    {
      "cell_type": "code",
      "source": [
        "# Creating an empty tensor\n",
        "x = torch.empty(size=(1, ))\n",
        "print(x)\n",
        "x = torch.empty(1)\n",
        "print(x)\n",
        "x = torch.empty(size=(2, 3))\n",
        "print(x)"
      ],
      "metadata": {
        "colab": {
          "base_uri": "https://localhost:8080/"
        },
        "id": "iEHLqGYg8rD3",
        "outputId": "955276fc-1e78-4a64-a589-28ad0bdfe580"
      },
      "execution_count": 3,
      "outputs": [
        {
          "output_type": "stream",
          "name": "stdout",
          "text": [
            "tensor([2.5223e-44])\n",
            "tensor([-2.9034e+30])\n",
            "tensor([[-2.9043e+30,  3.1085e-41, -2.9047e+30],\n",
            "        [ 3.1085e-41,  0.0000e+00,  3.1085e-41]])\n"
          ]
        }
      ]
    },
    {
      "cell_type": "code",
      "source": [
        "# Creating Random tensors\n",
        "x = torch.rand(2, 2)\n",
        "print(x)\n",
        "x = torch.rand(size=(2, 2))\n",
        "print(x)"
      ],
      "metadata": {
        "colab": {
          "base_uri": "https://localhost:8080/"
        },
        "id": "jhy1VMVF8yvo",
        "outputId": "f4ea7b06-04ca-4aa8-ea27-70bc52d001af"
      },
      "execution_count": 4,
      "outputs": [
        {
          "output_type": "stream",
          "name": "stdout",
          "text": [
            "tensor([[0.1844, 0.2859],\n",
            "        [0.9685, 0.1264]])\n",
            "tensor([[0.6717, 0.3603],\n",
            "        [0.1088, 0.5863]])\n"
          ]
        }
      ]
    },
    {
      "cell_type": "code",
      "source": [
        "# Tensors with 0s or 1s\n",
        "x = torch.zeros(size=(2, 2), dtype=torch.int32)\n",
        "print(f\"x = {x}, Size =  {x.size()}\")\n",
        "x = torch.ones(size=(2, 2))\n",
        "print(x)"
      ],
      "metadata": {
        "colab": {
          "base_uri": "https://localhost:8080/"
        },
        "id": "uOak4y9x9m0t",
        "outputId": "1a2f9a6b-e7a9-4a98-b555-f23154e34d30"
      },
      "execution_count": 5,
      "outputs": [
        {
          "output_type": "stream",
          "name": "stdout",
          "text": [
            "x = tensor([[0, 0],\n",
            "        [0, 0]], dtype=torch.int32), Size =  torch.Size([2, 2])\n",
            "tensor([[1., 1.],\n",
            "        [1., 1.]])\n"
          ]
        }
      ]
    },
    {
      "cell_type": "code",
      "source": [
        "# Creating tensor from lists\n",
        "x = torch.tensor([1,2,3,4])\n",
        "print(x)"
      ],
      "metadata": {
        "colab": {
          "base_uri": "https://localhost:8080/"
        },
        "id": "UYeOc0Km90mb",
        "outputId": "9b804e01-4960-4d7f-c8bd-01e557e6044c"
      },
      "execution_count": 6,
      "outputs": [
        {
          "output_type": "stream",
          "name": "stdout",
          "text": [
            "tensor([1, 2, 3, 4])\n"
          ]
        }
      ]
    },
    {
      "cell_type": "markdown",
      "source": [
        "### Basic Tensor Operations"
      ],
      "metadata": {
        "id": "YgYPl8PV-juK"
      }
    },
    {
      "cell_type": "code",
      "source": [
        "x = torch.rand(size=(2, 2))\n",
        "y = torch.rand(size=(2, 2))\n",
        "z = x+y\n",
        "print(z)\n",
        "z = torch.add(x, y)\n",
        "print(z)"
      ],
      "metadata": {
        "colab": {
          "base_uri": "https://localhost:8080/"
        },
        "id": "1s3R5sN4-a5d",
        "outputId": "377b8bce-9b50-462d-a964-2f4d68f8b70c"
      },
      "execution_count": 7,
      "outputs": [
        {
          "output_type": "stream",
          "name": "stdout",
          "text": [
            "tensor([[0.5680, 0.8375],\n",
            "        [0.6761, 1.3827]])\n",
            "tensor([[0.5680, 0.8375],\n",
            "        [0.6761, 1.3827]])\n"
          ]
        }
      ]
    },
    {
      "cell_type": "code",
      "source": [
        "# Using inplace addition, y's value is changed to the sum\n",
        "y.add_(x)\n",
        "print(y)"
      ],
      "metadata": {
        "colab": {
          "base_uri": "https://localhost:8080/"
        },
        "id": "fBKNyosU-vdS",
        "outputId": "59d14029-43b7-4ee8-bfb5-4f170a3a94a8"
      },
      "execution_count": 8,
      "outputs": [
        {
          "output_type": "stream",
          "name": "stdout",
          "text": [
            "tensor([[0.5680, 0.8375],\n",
            "        [0.6761, 1.3827]])\n"
          ]
        }
      ]
    },
    {
      "cell_type": "code",
      "source": [
        "# Element-wise multiplication\n",
        "z = x*y\n",
        "print(z)\n",
        "z = torch.mul(x, y)\n",
        "print(z)"
      ],
      "metadata": {
        "colab": {
          "base_uri": "https://localhost:8080/"
        },
        "id": "DZqfnVh0_OhL",
        "outputId": "5ced8720-583b-4254-ebc6-9efd60a49c37"
      },
      "execution_count": 9,
      "outputs": [
        {
          "output_type": "stream",
          "name": "stdout",
          "text": [
            "tensor([[0.2342, 0.6480],\n",
            "        [0.0856, 0.7403]])\n",
            "tensor([[0.2342, 0.6480],\n",
            "        [0.0856, 0.7403]])\n"
          ]
        }
      ]
    },
    {
      "cell_type": "code",
      "source": [
        "# Element-wise Division\n",
        "z = x/y\n",
        "print(z)\n",
        "z = torch.div(x, y)\n",
        "print(z)"
      ],
      "metadata": {
        "colab": {
          "base_uri": "https://localhost:8080/"
        },
        "id": "0uJEooXp_f1z",
        "outputId": "bb4a27b0-e98d-4d92-d37c-b07c2d945593"
      },
      "execution_count": 10,
      "outputs": [
        {
          "output_type": "stream",
          "name": "stdout",
          "text": [
            "tensor([[0.7259, 0.9238],\n",
            "        [0.1872, 0.3872]])\n",
            "tensor([[0.7259, 0.9238],\n",
            "        [0.1872, 0.3872]])\n"
          ]
        }
      ]
    },
    {
      "cell_type": "markdown",
      "source": [
        "### Slicing operations"
      ],
      "metadata": {
        "id": "3FNHCgU8_vso"
      }
    },
    {
      "cell_type": "code",
      "source": [
        "x = torch.rand(size=(5, 3))\n",
        "print(x)"
      ],
      "metadata": {
        "colab": {
          "base_uri": "https://localhost:8080/"
        },
        "id": "UzIc87Li_m5z",
        "outputId": "c9c46dfc-5077-45b1-e054-50d5930ab59f"
      },
      "execution_count": 11,
      "outputs": [
        {
          "output_type": "stream",
          "name": "stdout",
          "text": [
            "tensor([[0.8291, 0.4281, 0.4782],\n",
            "        [0.8042, 0.0127, 0.6254],\n",
            "        [0.1376, 0.3264, 0.2849],\n",
            "        [0.4262, 0.3483, 0.9054],\n",
            "        [0.2655, 0.6515, 0.0729]])\n"
          ]
        }
      ]
    },
    {
      "cell_type": "code",
      "source": [
        "# Getting all row for 1st column\n",
        "print(x[:, 0])\n",
        "\n",
        "# Getting all columns for 1st row\n",
        "print(x[0, :])\n",
        "\n",
        "# Getting element at 2nd row and 2nd col\n",
        "print(x[1, 1])"
      ],
      "metadata": {
        "colab": {
          "base_uri": "https://localhost:8080/"
        },
        "id": "hqhavfFM_2Tb",
        "outputId": "0517bf91-24c9-4bed-abbc-c9b59869deec"
      },
      "execution_count": 12,
      "outputs": [
        {
          "output_type": "stream",
          "name": "stdout",
          "text": [
            "tensor([0.8291, 0.8042, 0.1376, 0.4262, 0.2655])\n",
            "tensor([0.8291, 0.4281, 0.4782])\n",
            "tensor(0.0127)\n"
          ]
        }
      ]
    },
    {
      "cell_type": "markdown",
      "source": [
        "If tensor has only 1 value, we can use **.item()** to get the actual value"
      ],
      "metadata": {
        "id": "TyhH4ppNAbef"
      }
    },
    {
      "cell_type": "code",
      "source": [
        "print(x[1, 1])\n",
        "print(x[1, 1].item())"
      ],
      "metadata": {
        "colab": {
          "base_uri": "https://localhost:8080/"
        },
        "id": "JIAN3Yvg_-VT",
        "outputId": "3279f391-7004-4d2d-ebfd-8e9a2fbb7351"
      },
      "execution_count": 13,
      "outputs": [
        {
          "output_type": "stream",
          "name": "stdout",
          "text": [
            "tensor(0.0127)\n",
            "0.012693285942077637\n"
          ]
        }
      ]
    },
    {
      "cell_type": "markdown",
      "source": [
        "### Reshaping a tensor"
      ],
      "metadata": {
        "id": "71ZGMqaWApfO"
      }
    },
    {
      "cell_type": "code",
      "source": [
        "x = torch.rand(4, 4)\n",
        "print(x, x.shape)\n",
        "y = x.view(16)\n",
        "print(y, y.shape)"
      ],
      "metadata": {
        "colab": {
          "base_uri": "https://localhost:8080/"
        },
        "id": "fDRNPUOWAm7k",
        "outputId": "3902f915-c662-4a0d-91fe-fa1b13f6143a"
      },
      "execution_count": 14,
      "outputs": [
        {
          "output_type": "stream",
          "name": "stdout",
          "text": [
            "tensor([[0.9177, 0.7780, 0.7827, 0.9197],\n",
            "        [0.7228, 0.8972, 0.0194, 0.7112],\n",
            "        [0.7292, 0.3303, 0.2814, 0.1204],\n",
            "        [0.6451, 0.8158, 0.4306, 0.8873]]) torch.Size([4, 4])\n",
            "tensor([0.9177, 0.7780, 0.7827, 0.9197, 0.7228, 0.8972, 0.0194, 0.7112, 0.7292,\n",
            "        0.3303, 0.2814, 0.1204, 0.6451, 0.8158, 0.4306, 0.8873]) torch.Size([16])\n"
          ]
        }
      ]
    },
    {
      "cell_type": "code",
      "source": [
        "# Getting 8 columns and number of rows will manage themselves\n",
        "y = x.view(-1, 8)\n",
        "print(y, y.shape)"
      ],
      "metadata": {
        "id": "VkBbb-uHAzHe",
        "colab": {
          "base_uri": "https://localhost:8080/"
        },
        "outputId": "6af37033-3672-4872-d740-589185603a9a"
      },
      "execution_count": 15,
      "outputs": [
        {
          "output_type": "stream",
          "name": "stdout",
          "text": [
            "tensor([[0.9177, 0.7780, 0.7827, 0.9197, 0.7228, 0.8972, 0.0194, 0.7112],\n",
            "        [0.7292, 0.3303, 0.2814, 0.1204, 0.6451, 0.8158, 0.4306, 0.8873]]) torch.Size([2, 8])\n"
          ]
        }
      ]
    },
    {
      "cell_type": "markdown",
      "source": [
        "NumPy arrays require data to be in the CPU memory. So if the tenor from which array is being created is on GPU, it needs to be transferred to CPU first otherwise will lead to error\n",
        "\n",
        "Then both the tensor and the array will share same memory address"
      ],
      "metadata": {
        "id": "cWilcIWSQhbJ"
      }
    },
    {
      "cell_type": "code",
      "source": [
        "### Conversion from numpy arrays\n",
        "import torch\n",
        "import numpy\n",
        "\n",
        "device = torch.device('cuda' if torch.cuda.is_available() else 'cpu')\n",
        "print(device)\n",
        "\n",
        "try:\n",
        "    a = torch.ones(5)\n",
        "    print(type(a), a)\n",
        "    #a_CPU = a.cpu()\n",
        "    b = a.numpy()\n",
        "    print(type(b), (b))\n",
        "    print(\"In try block1\")\n",
        "\n",
        "except Exception as e:\n",
        "    print(e)\n",
        "\n",
        "try:\n",
        "    a = torch.ones(5).to(device)\n",
        "    print(type(a), a)\n",
        "    #a_CPU = a.cpu()\n",
        "    b = a.numpy()\n",
        "    print(type(b), (b))\n",
        "    print(\"In try block2\")\n",
        "\n",
        "except Exception as e:\n",
        "    print(e)\n",
        "\n",
        "finally:\n",
        "    print(\"*\"*100)\n",
        "    print(\"Corrected Version\")\n",
        "    a = torch.ones(5).to(device)\n",
        "    print(type(a), a)\n",
        "    # Transferred to CPU\n",
        "    a_CPU = a.cpu()\n",
        "    b = a_CPU.numpy()\n",
        "    print(type(b), (b))"
      ],
      "metadata": {
        "colab": {
          "base_uri": "https://localhost:8080/"
        },
        "id": "owvM6SF5ED_8",
        "outputId": "9e89fb02-6fbc-4e9d-c589-706994a699a9"
      },
      "execution_count": 16,
      "outputs": [
        {
          "output_type": "stream",
          "name": "stdout",
          "text": [
            "cuda\n",
            "<class 'torch.Tensor'> tensor([1., 1., 1., 1., 1.])\n",
            "<class 'numpy.ndarray'> [1. 1. 1. 1. 1.]\n",
            "In try block1\n",
            "<class 'torch.Tensor'> tensor([1., 1., 1., 1., 1.], device='cuda:0')\n",
            "can't convert cuda:0 device type tensor to numpy. Use Tensor.cpu() to copy the tensor to host memory first.\n",
            "****************************************************************************************************\n",
            "Corrected Version\n",
            "<class 'torch.Tensor'> tensor([1., 1., 1., 1., 1.], device='cuda:0')\n",
            "<class 'numpy.ndarray'> [1. 1. 1. 1. 1.]\n"
          ]
        }
      ]
    },
    {
      "cell_type": "markdown",
      "source": [
        "Changing 1st wil affect the other"
      ],
      "metadata": {
        "id": "E3CwA6HqFARa"
      }
    },
    {
      "cell_type": "code",
      "source": [
        "a_CPU.add_(1)\n",
        "print(a_CPU)\n",
        "print(b)"
      ],
      "metadata": {
        "colab": {
          "base_uri": "https://localhost:8080/"
        },
        "id": "nyV_EPHHE1iy",
        "outputId": "b4a744ff-4f80-4c8b-cfb9-822bb9686332"
      },
      "execution_count": 17,
      "outputs": [
        {
          "output_type": "stream",
          "name": "stdout",
          "text": [
            "tensor([2., 2., 2., 2., 2.])\n",
            "[2. 2. 2. 2. 2.]\n"
          ]
        }
      ]
    },
    {
      "cell_type": "code",
      "source": [
        "a = np.ones(5)\n",
        "print(type(a), a)\n",
        "b = torch.from_numpy(a)\n",
        "print(type(b), b)\n",
        "\n",
        "a = a+1 # Creates new instance of a\n",
        "print(a)\n",
        "print(b)"
      ],
      "metadata": {
        "id": "Bs0fq1TUFH4f",
        "colab": {
          "base_uri": "https://localhost:8080/"
        },
        "outputId": "b80e6d7c-1134-4725-d7b6-79c38a7b2c64"
      },
      "execution_count": 18,
      "outputs": [
        {
          "output_type": "stream",
          "name": "stdout",
          "text": [
            "<class 'numpy.ndarray'> [1. 1. 1. 1. 1.]\n",
            "<class 'torch.Tensor'> tensor([1., 1., 1., 1., 1.], dtype=torch.float64)\n",
            "[2. 2. 2. 2. 2.]\n",
            "tensor([1., 1., 1., 1., 1.], dtype=torch.float64)\n"
          ]
        }
      ]
    },
    {
      "cell_type": "markdown",
      "source": [
        "Again, they are sharing same memory address"
      ],
      "metadata": {
        "id": "TyVMCAGdSGlM"
      }
    },
    {
      "cell_type": "code",
      "source": [
        "a = np.ones(5)\n",
        "print(type(a), a)\n",
        "b = torch.from_numpy(a)\n",
        "print(type(b), b)\n",
        "\n",
        "a+=1\n",
        "print(a)\n",
        "print(b)"
      ],
      "metadata": {
        "colab": {
          "base_uri": "https://localhost:8080/"
        },
        "id": "aiQLnRMvRsOb",
        "outputId": "53d4b1c7-0c2f-4a1d-debe-798037a899ab"
      },
      "execution_count": 19,
      "outputs": [
        {
          "output_type": "stream",
          "name": "stdout",
          "text": [
            "<class 'numpy.ndarray'> [1. 1. 1. 1. 1.]\n",
            "<class 'torch.Tensor'> tensor([1., 1., 1., 1., 1.], dtype=torch.float64)\n",
            "[2. 2. 2. 2. 2.]\n",
            "tensor([2., 2., 2., 2., 2.], dtype=torch.float64)\n"
          ]
        }
      ]
    },
    {
      "cell_type": "markdown",
      "source": [
        "Changing one changes the other too"
      ],
      "metadata": {
        "id": "d2tRaAqpf9m6"
      }
    },
    {
      "cell_type": "code",
      "source": [
        "a = torch.ones(5)\n",
        "b = a.numpy()\n",
        "a+=1\n",
        "print(a)\n",
        "print(b)"
      ],
      "metadata": {
        "colab": {
          "base_uri": "https://localhost:8080/"
        },
        "id": "lge3hYrSfL-C",
        "outputId": "ca3357a1-2d35-4e5f-c2f3-2d1d3b979c02"
      },
      "execution_count": 20,
      "outputs": [
        {
          "output_type": "stream",
          "name": "stdout",
          "text": [
            "tensor([2., 2., 2., 2., 2.])\n",
            "[2. 2. 2. 2. 2.]\n"
          ]
        }
      ]
    },
    {
      "cell_type": "code",
      "source": [],
      "metadata": {
        "id": "jfgU6vtmf7Z9"
      },
      "execution_count": 20,
      "outputs": []
    }
  ]
}