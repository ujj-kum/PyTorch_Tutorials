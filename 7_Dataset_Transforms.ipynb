{
  "nbformat": 4,
  "nbformat_minor": 0,
  "metadata": {
    "colab": {
      "provenance": []
    },
    "kernelspec": {
      "name": "python3",
      "display_name": "Python 3"
    },
    "language_info": {
      "name": "python"
    }
  },
  "cells": [
    {
      "cell_type": "code",
      "execution_count": 1,
      "metadata": {
        "id": "rmxw7JPPv5Ly"
      },
      "outputs": [],
      "source": [
        "import torch\n",
        "import torchvision\n",
        "import numpy as np"
      ]
    },
    {
      "cell_type": "markdown",
      "source": [
        "Here in this specific code, transforms is used to convert an image or numpy array to tensors"
      ],
      "metadata": {
        "id": "sGLWs4vKwQcV"
      }
    },
    {
      "cell_type": "code",
      "source": [
        "dataset = torchvision.datasets.MNIST(\n",
        "    root='./data', transform=torchvision.transforms.ToTensor(), download=True\n",
        ")"
      ],
      "metadata": {
        "id": "3bC8XhDiwGnO"
      },
      "execution_count": 2,
      "outputs": []
    },
    {
      "cell_type": "markdown",
      "source": [
        "### Custom Dataset"
      ],
      "metadata": {
        "id": "J3c8qVbxxaJL"
      }
    },
    {
      "cell_type": "code",
      "source": [
        "from torch.utils.data import Dataset\n",
        "\n",
        "class WineDataset(Dataset):\n",
        "    def __init__(self, transform=None):\n",
        "        # 1st row is header. So skip it\n",
        "        xy = np.loadtxt('wine.csv', delimiter=\",\", dtype=np.float32, skiprows=1)\n",
        "        self.x = xy[:, 1:]\n",
        "        self.y = xy[:, [0]]\n",
        "        self.n_samples = xy.shape[0]\n",
        "        self.transform = transform\n",
        "\n",
        "    def __getitem__(self, index):\n",
        "        sample = self.x[index], self.y[index]\n",
        "        if self.transform:\n",
        "            sample = self.transform(sample)\n",
        "        return sample\n",
        "\n",
        "    def __len__(self):\n",
        "        return self.n_samples"
      ],
      "metadata": {
        "id": "qOPmxN5NxEE-"
      },
      "execution_count": 3,
      "outputs": []
    },
    {
      "cell_type": "markdown",
      "source": [
        "### Custom Transforms"
      ],
      "metadata": {
        "id": "BwzNgW5wybiT"
      }
    },
    {
      "cell_type": "code",
      "source": [
        "class ToTensor:\n",
        "    # To make it into a callable object, __call__() is used\n",
        "    def __call__(self, sample):\n",
        "        inputs, labels = sample\n",
        "        return torch.from_numpy(inputs), torch.from_numpy(labels)\n",
        "\n",
        "\n",
        "class MulTransform:\n",
        "    def __init__(self, factor):\n",
        "        self.factor = factor\n",
        "\n",
        "    def __call__(self, sample):\n",
        "        inputs, labels = sample\n",
        "        inputs *= self.factor\n",
        "        return inputs, labels"
      ],
      "metadata": {
        "id": "pH1KjWdJyfFU"
      },
      "execution_count": 4,
      "outputs": []
    },
    {
      "cell_type": "code",
      "source": [
        "dataset = WineDataset(transform=ToTensor())\n",
        "\n",
        "first_data = dataset[0]\n",
        "inputs, labels = first_data\n",
        "print(type(inputs), type(labels))\n",
        "print(inputs)"
      ],
      "metadata": {
        "colab": {
          "base_uri": "https://localhost:8080/"
        },
        "id": "UlqCIJCGxoxW",
        "outputId": "1624042c-20cd-42e7-e920-279b525a2215"
      },
      "execution_count": 5,
      "outputs": [
        {
          "output_type": "stream",
          "name": "stdout",
          "text": [
            "<class 'torch.Tensor'> <class 'torch.Tensor'>\n",
            "tensor([1.4230e+01, 1.7100e+00, 2.4300e+00, 1.5600e+01, 1.2700e+02, 2.8000e+00,\n",
            "        3.0600e+00, 2.8000e-01, 2.2900e+00, 5.6400e+00, 1.0400e+00, 3.9200e+00,\n",
            "        1.0650e+03])\n"
          ]
        }
      ]
    },
    {
      "cell_type": "markdown",
      "source": [
        "### Using Compose Transform"
      ],
      "metadata": {
        "id": "LOYMJZTx0M_i"
      }
    },
    {
      "cell_type": "code",
      "source": [
        "composed = torchvision.transforms.Compose([ToTensor(), MulTransform(factor=2)])\n",
        "\n",
        "dataset = WineDataset(transform=composed)\n",
        "first_data = dataset[0]\n",
        "features, labels = first_data\n",
        "print(type(features), type(labels))\n",
        "print(features)"
      ],
      "metadata": {
        "colab": {
          "base_uri": "https://localhost:8080/"
        },
        "id": "3vD2xZG0zKH0",
        "outputId": "199f86ac-6e52-4fc3-eb87-8772d06c3523"
      },
      "execution_count": 6,
      "outputs": [
        {
          "output_type": "stream",
          "name": "stdout",
          "text": [
            "<class 'torch.Tensor'> <class 'torch.Tensor'>\n",
            "tensor([2.8460e+01, 3.4200e+00, 4.8600e+00, 3.1200e+01, 2.5400e+02, 5.6000e+00,\n",
            "        6.1200e+00, 5.6000e-01, 4.5800e+00, 1.1280e+01, 2.0800e+00, 7.8400e+00,\n",
            "        2.1300e+03])\n"
          ]
        }
      ]
    },
    {
      "cell_type": "code",
      "source": [],
      "metadata": {
        "id": "gNgyWEPp0gtH"
      },
      "execution_count": 6,
      "outputs": []
    }
  ]
}