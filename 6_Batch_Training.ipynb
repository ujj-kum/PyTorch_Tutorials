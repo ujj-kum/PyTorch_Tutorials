{
  "nbformat": 4,
  "nbformat_minor": 0,
  "metadata": {
    "colab": {
      "provenance": []
    },
    "kernelspec": {
      "name": "python3",
      "display_name": "Python 3"
    },
    "language_info": {
      "name": "python"
    }
  },
  "cells": [
    {
      "cell_type": "markdown",
      "source": [
        "**Epoch** = 1 complete forward and backward pass for all training examples\n",
        "\n",
        "**batch_size** = Number of training samples in 1 batch/1 fwd and bwk pass\n",
        "\n",
        "**No. of iterations** = No. of passes, each pass uses (batch_size) number of samples\n",
        "\n",
        "Eg. 100 train samples, batch_size=20, 100/20=5 iterations for 1 epoch"
      ],
      "metadata": {
        "id": "0zQixUnPRqwS"
      }
    },
    {
      "cell_type": "code",
      "source": [
        "import torch\n",
        "import torchvision\n",
        "from torch.utils.data import Dataset, DataLoader\n",
        "import numpy as np\n",
        "import math"
      ],
      "metadata": {
        "id": "wGFA0By4SlxD"
      },
      "execution_count": 1,
      "outputs": []
    },
    {
      "cell_type": "markdown",
      "source": [
        "### Custom dataset"
      ],
      "metadata": {
        "id": "GWxCOiWeTn-R"
      }
    },
    {
      "cell_type": "code",
      "source": [
        "class WineDataset(Dataset):\n",
        "    def __init__(self):\n",
        "        # 1st row is header. So skip it\n",
        "        xy = np.loadtxt('wine.csv', delimiter=\",\", dtype=np.float32, skiprows=1)\n",
        "        self.x = torch.from_numpy(xy[:, 1:])\n",
        "        self.y = torch.from_numpy(xy[:, [0]])\n",
        "        self.n_samples = xy.shape[0]\n",
        "\n",
        "    def __getitem__(self, index):\n",
        "        return self.x[index], self.y[index]\n",
        "\n",
        "    def __len__(self):\n",
        "        return self.n_samples"
      ],
      "metadata": {
        "id": "2iXK_5S6TnpV"
      },
      "execution_count": 2,
      "outputs": []
    },
    {
      "cell_type": "code",
      "source": [
        "dataset = WineDataset()\n",
        "\n",
        "first_data = dataset[0]\n",
        "features, labels = first_data\n",
        "print(features, labels)\n",
        "print(f\"No. of datasets = {len(dataset)}\")"
      ],
      "metadata": {
        "id": "BvKl3utdTgxN",
        "colab": {
          "base_uri": "https://localhost:8080/"
        },
        "outputId": "f99eeac7-dad9-4f2b-821a-5860ed9aa809"
      },
      "execution_count": 3,
      "outputs": [
        {
          "output_type": "stream",
          "name": "stdout",
          "text": [
            "tensor([1.4230e+01, 1.7100e+00, 2.4300e+00, 1.5600e+01, 1.2700e+02, 2.8000e+00,\n",
            "        3.0600e+00, 2.8000e-01, 2.2900e+00, 5.6400e+00, 1.0400e+00, 3.9200e+00,\n",
            "        1.0650e+03]) tensor([1.])\n",
            "No. of datasets = 178\n"
          ]
        }
      ]
    },
    {
      "cell_type": "markdown",
      "source": [
        "### DataLoader\n",
        "\n",
        "**num_workers** denotes the number of subprocesses\n",
        "\n",
        "Since **batch_size=4**, here output will show 4 datasets"
      ],
      "metadata": {
        "id": "36oP_lpxp4R-"
      }
    },
    {
      "cell_type": "code",
      "source": [
        "batch_size=4\n",
        "dataloader = DataLoader(dataset=dataset, batch_size=batch_size, shuffle=True, num_workers=2)\n",
        "\n",
        "dataiter = iter(dataloader)\n",
        "data = next(dataiter)\n",
        "features, labels = data\n",
        "print(features, labels)"
      ],
      "metadata": {
        "colab": {
          "base_uri": "https://localhost:8080/"
        },
        "id": "fMpslVrDpyPf",
        "outputId": "0d38aacb-0ecb-4a87-840b-a48abb72d9c8"
      },
      "execution_count": 4,
      "outputs": [
        {
          "output_type": "stream",
          "name": "stdout",
          "text": [
            "tensor([[1.2930e+01, 2.8100e+00, 2.7000e+00, 2.1000e+01, 9.6000e+01, 1.5400e+00,\n",
            "         5.0000e-01, 5.3000e-01, 7.5000e-01, 4.6000e+00, 7.7000e-01, 2.3100e+00,\n",
            "         6.0000e+02],\n",
            "        [1.3050e+01, 1.7700e+00, 2.1000e+00, 1.7000e+01, 1.0700e+02, 3.0000e+00,\n",
            "         3.0000e+00, 2.8000e-01, 2.0300e+00, 5.0400e+00, 8.8000e-01, 3.3500e+00,\n",
            "         8.8500e+02],\n",
            "        [1.3390e+01, 1.7700e+00, 2.6200e+00, 1.6100e+01, 9.3000e+01, 2.8500e+00,\n",
            "         2.9400e+00, 3.4000e-01, 1.4500e+00, 4.8000e+00, 9.2000e-01, 3.2200e+00,\n",
            "         1.1950e+03],\n",
            "        [1.3900e+01, 1.6800e+00, 2.1200e+00, 1.6000e+01, 1.0100e+02, 3.1000e+00,\n",
            "         3.3900e+00, 2.1000e-01, 2.1400e+00, 6.1000e+00, 9.1000e-01, 3.3300e+00,\n",
            "         9.8500e+02]]) tensor([[3.],\n",
            "        [1.],\n",
            "        [1.],\n",
            "        [1.]])\n"
          ]
        }
      ]
    },
    {
      "cell_type": "code",
      "source": [
        "num_epochs = 2\n",
        "total_samples = len(dataset)\n",
        "n_iterations_per_epoch = math.ceil(total_samples/batch_size)\n",
        "print(total_samples, n_iterations_per_epoch)"
      ],
      "metadata": {
        "colab": {
          "base_uri": "https://localhost:8080/"
        },
        "id": "NLTlYu69qdxq",
        "outputId": "acb40466-717f-4db9-97c8-29a1735bbbf8"
      },
      "execution_count": 5,
      "outputs": [
        {
          "output_type": "stream",
          "name": "stdout",
          "text": [
            "178 45\n"
          ]
        }
      ]
    },
    {
      "cell_type": "code",
      "source": [
        "# Dummy Training Loop\n",
        "for epoch in range(num_epochs):\n",
        "    for i, (inputs, labels) in enumerate(dataloader):\n",
        "        # Forward pass\n",
        "        if (i+1)%5==0:\n",
        "            print(f\"Epoch {epoch+1}/{num_epochs}, step {i+1}/{n_iterations_per_epoch}, inputs {inputs.shape}\")"
      ],
      "metadata": {
        "colab": {
          "base_uri": "https://localhost:8080/"
        },
        "id": "HJfS1-zPtQlu",
        "outputId": "68b255df-75f0-49c4-9e84-813efac7aa53"
      },
      "execution_count": 6,
      "outputs": [
        {
          "output_type": "stream",
          "name": "stdout",
          "text": [
            "Epoch 1/2, step 5/45, inputs torch.Size([4, 13])\n",
            "Epoch 1/2, step 10/45, inputs torch.Size([4, 13])\n",
            "Epoch 1/2, step 15/45, inputs torch.Size([4, 13])\n",
            "Epoch 1/2, step 20/45, inputs torch.Size([4, 13])\n",
            "Epoch 1/2, step 25/45, inputs torch.Size([4, 13])\n",
            "Epoch 1/2, step 30/45, inputs torch.Size([4, 13])\n",
            "Epoch 1/2, step 35/45, inputs torch.Size([4, 13])\n",
            "Epoch 1/2, step 40/45, inputs torch.Size([4, 13])\n",
            "Epoch 1/2, step 45/45, inputs torch.Size([2, 13])\n",
            "Epoch 2/2, step 5/45, inputs torch.Size([4, 13])\n",
            "Epoch 2/2, step 10/45, inputs torch.Size([4, 13])\n",
            "Epoch 2/2, step 15/45, inputs torch.Size([4, 13])\n",
            "Epoch 2/2, step 20/45, inputs torch.Size([4, 13])\n",
            "Epoch 2/2, step 25/45, inputs torch.Size([4, 13])\n",
            "Epoch 2/2, step 30/45, inputs torch.Size([4, 13])\n",
            "Epoch 2/2, step 35/45, inputs torch.Size([4, 13])\n",
            "Epoch 2/2, step 40/45, inputs torch.Size([4, 13])\n",
            "Epoch 2/2, step 45/45, inputs torch.Size([2, 13])\n"
          ]
        }
      ]
    },
    {
      "cell_type": "code",
      "source": [],
      "metadata": {
        "id": "cZY7fQ90uNY4"
      },
      "execution_count": 6,
      "outputs": []
    }
  ]
}