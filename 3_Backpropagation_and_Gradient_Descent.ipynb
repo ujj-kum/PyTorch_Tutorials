{
  "nbformat": 4,
  "nbformat_minor": 0,
  "metadata": {
    "colab": {
      "provenance": []
    },
    "kernelspec": {
      "name": "python3",
      "display_name": "Python 3"
    },
    "language_info": {
      "name": "python"
    }
  },
  "cells": [
    {
      "cell_type": "code",
      "execution_count": null,
      "metadata": {
        "id": "b0eUfkZ83gt-"
      },
      "outputs": [],
      "source": [
        "import torch"
      ]
    },
    {
      "cell_type": "code",
      "source": [
        "x = torch.tensor(1.0)\n",
        "y = torch.tensor(2.0)\n",
        "w = torch.tensor(1.0, requires_grad=True)"
      ],
      "metadata": {
        "id": "7M-ilDyp4MCu"
      },
      "execution_count": null,
      "outputs": []
    },
    {
      "cell_type": "markdown",
      "source": [
        "### Forward pass"
      ],
      "metadata": {
        "id": "67365F6f8g7V"
      }
    },
    {
      "cell_type": "code",
      "source": [
        "y_hat = w*x\n",
        "loss = (y_hat-y)**2\n",
        "print(loss)"
      ],
      "metadata": {
        "colab": {
          "base_uri": "https://localhost:8080/"
        },
        "id": "b4gCRUgr8dWN",
        "outputId": "8bf35ca1-8fb0-437d-dff5-3f01ebc22111"
      },
      "execution_count": null,
      "outputs": [
        {
          "output_type": "stream",
          "name": "stdout",
          "text": [
            "tensor(1., grad_fn=<PowBackward0>)\n"
          ]
        }
      ]
    },
    {
      "cell_type": "markdown",
      "source": [
        "### Backward pass"
      ],
      "metadata": {
        "id": "x9ynwaC98smv"
      }
    },
    {
      "cell_type": "code",
      "source": [
        "# Gradient Computation\n",
        "loss.backward()\n",
        "print(w.grad)"
      ],
      "metadata": {
        "colab": {
          "base_uri": "https://localhost:8080/"
        },
        "id": "9pJqwuFj8pwT",
        "outputId": "e9b6e8b7-5345-4078-88d9-bdb1c5fe1b72"
      },
      "execution_count": null,
      "outputs": [
        {
          "output_type": "stream",
          "name": "stdout",
          "text": [
            "tensor(-2.)\n"
          ]
        }
      ]
    },
    {
      "cell_type": "markdown",
      "source": [
        "# Gradient Descent"
      ],
      "metadata": {
        "id": "QsftE82f_Giq"
      }
    },
    {
      "cell_type": "code",
      "source": [
        "import numpy as np"
      ],
      "metadata": {
        "id": "ju065mnk9CAJ"
      },
      "execution_count": null,
      "outputs": []
    },
    {
      "cell_type": "code",
      "source": [
        "# f = 2*x\n",
        "X = np.array([1, 2, 3, 4], dtype=np.float32)\n",
        "# y = np.array([2, 4, 6, 8], dtype=np.float32)\n",
        "y = 2*X\n",
        "# Intial Weight\n",
        "w = 0.0"
      ],
      "metadata": {
        "id": "Rx32djQV_PB5"
      },
      "execution_count": null,
      "outputs": []
    },
    {
      "cell_type": "markdown",
      "source": [
        "### Forward Pass"
      ],
      "metadata": {
        "id": "x4CNY9Bu_8km"
      }
    },
    {
      "cell_type": "code",
      "source": [
        "def forward(x):\n",
        "    return w*x"
      ],
      "metadata": {
        "id": "dXZZGmQG_pdh"
      },
      "execution_count": null,
      "outputs": []
    },
    {
      "cell_type": "markdown",
      "source": [
        "### Calculating loss"
      ],
      "metadata": {
        "id": "TzfvwFseAGhr"
      }
    },
    {
      "cell_type": "code",
      "source": [
        "def loss(y, y_pred):\n",
        "    '''\n",
        "    Calculates MSE loss\n",
        "    '''\n",
        "    return ((y_pred-y)**2).mean()"
      ],
      "metadata": {
        "id": "rfNqUuJAAInF"
      },
      "execution_count": null,
      "outputs": []
    },
    {
      "cell_type": "markdown",
      "source": [
        "### Calculating Gradient manually\n",
        "\n",
        "Derivative of loss wrt w is:\n",
        "\n",
        "dL/dw = (1/n)(2x*(y_predicted -y))"
      ],
      "metadata": {
        "id": "I7O4ajMQBJ_z"
      }
    },
    {
      "cell_type": "code",
      "source": [
        "def gradient(x, y, y_predicted):\n",
        "    '''\n",
        "    Calculates gradient of MSE loss wrt w\n",
        "    '''\n",
        "    return np.dot(2*x, y_pred-y).mean()"
      ],
      "metadata": {
        "id": "8bcrmSZdAcGu"
      },
      "execution_count": null,
      "outputs": []
    },
    {
      "cell_type": "code",
      "source": [
        "print(f\"Prediction before training:\\nf(5) = {forward(5):.3f}\")"
      ],
      "metadata": {
        "colab": {
          "base_uri": "https://localhost:8080/"
        },
        "id": "u-y5zjbHCK6m",
        "outputId": "36437ffb-96f7-4b1f-fd3c-da720cbad561"
      },
      "execution_count": null,
      "outputs": [
        {
          "output_type": "stream",
          "name": "stdout",
          "text": [
            "Prediction before training:\n",
            "f(5) = 0.000\n"
          ]
        }
      ]
    },
    {
      "cell_type": "markdown",
      "source": [
        "### Training"
      ],
      "metadata": {
        "id": "rFAjTIDHC9-e"
      }
    },
    {
      "cell_type": "code",
      "source": [
        "lr = 0.01\n",
        "n_iters = 20\n",
        "\n",
        "for epoch in range(n_iters):\n",
        "    # Prediction = fwd pass\n",
        "    y_pred = forward(X)\n",
        "\n",
        "    # Loss\n",
        "    l = loss(y=y, y_pred=y_pred)\n",
        "\n",
        "    # Gradients\n",
        "    dw = gradient(X, y, y_pred)\n",
        "\n",
        "    # Update weights\n",
        "    w -= lr*dw\n",
        "\n",
        "    # Print training info at every step\n",
        "    if epoch%2==0:\n",
        "        print(f\"Epoch {epoch+1}: w = {w:.3f}, loss={l:.5f}\")\n",
        "\n",
        "print(f\"Prediction after training:\\nf(5) = {forward(5):.3f}\")"
      ],
      "metadata": {
        "colab": {
          "base_uri": "https://localhost:8080/"
        },
        "id": "Tdln5KdPCnbw",
        "outputId": "c553530a-317b-49a3-d7d6-46dc8b244188"
      },
      "execution_count": null,
      "outputs": [
        {
          "output_type": "stream",
          "name": "stdout",
          "text": [
            "Epoch 1: w = 2.000, loss=0.00000\n",
            "Epoch 3: w = 2.000, loss=0.00000\n",
            "Epoch 5: w = 2.000, loss=0.00000\n",
            "Epoch 7: w = 2.000, loss=0.00000\n",
            "Epoch 9: w = 2.000, loss=0.00000\n",
            "Epoch 11: w = 2.000, loss=0.00000\n",
            "Epoch 13: w = 2.000, loss=0.00000\n",
            "Epoch 15: w = 2.000, loss=0.00000\n",
            "Epoch 17: w = 2.000, loss=0.00000\n",
            "Epoch 19: w = 2.000, loss=0.00000\n",
            "Prediction after training:\n",
            "f(5) = 10.000\n"
          ]
        }
      ]
    },
    {
      "cell_type": "markdown",
      "source": [
        "# Calculating gradient using PyTorch"
      ],
      "metadata": {
        "id": "AKs8H8VKF35P"
      }
    },
    {
      "cell_type": "code",
      "source": [
        "X = torch.tensor([1, 2, 3, 4], dtype=torch.float32)\n",
        "y = 2*X\n",
        "\n",
        "w = torch.tensor(0.0, dtype=torch.float32, requires_grad=True)"
      ],
      "metadata": {
        "id": "ZX3llyiREGVW"
      },
      "execution_count": null,
      "outputs": []
    },
    {
      "cell_type": "code",
      "source": [
        "def forward(x):\n",
        "    return w*x\n",
        "\n",
        "\n",
        "def loss(y, y_pred):\n",
        "    '''\n",
        "    Calculates MSE loss\n",
        "    '''\n",
        "    return ((y_pred-y)**2).mean()"
      ],
      "metadata": {
        "id": "_GyddroRGOa0"
      },
      "execution_count": null,
      "outputs": []
    },
    {
      "cell_type": "markdown",
      "source": [
        "In PyTorch, operations become part of the computational graph when they involve tensors that have **requires_grad=True**\n",
        "\n",
        "Updating weights should not be the part of computational graph"
      ],
      "metadata": {
        "id": "2I6pzjj8HSNV"
      }
    },
    {
      "cell_type": "code",
      "source": [
        "print(f\"Prediction before training:\\nf(5) = {forward(5):.3f}\")\n",
        "\n",
        "lr = 0.01\n",
        "n_iters = 50\n",
        "\n",
        "for epoch in range(n_iters):\n",
        "    y_pred = forward(X)\n",
        "\n",
        "    l = loss(y, y_pred)\n",
        "\n",
        "    # Calculating gradient automatically\n",
        "    # dl/dw\n",
        "    l.backward()\n",
        "\n",
        "    with torch.no_grad():\n",
        "        w -= lr*w.grad\n",
        "\n",
        "    # Zero Grads\n",
        "    w.grad.zero_()\n",
        "\n",
        "    if epoch%10==0:\n",
        "        print(f\"Epoch {epoch+1}: w = {w:.3f}, loss={l:.5f}\")\n",
        "\n",
        "print(f\"Prediction after training:\\nf(5) = {forward(5):.3f}\")"
      ],
      "metadata": {
        "colab": {
          "base_uri": "https://localhost:8080/"
        },
        "id": "Ao7S0r4EGt2u",
        "outputId": "83874bce-0eb3-4bda-eae1-1ba09140a47c"
      },
      "execution_count": null,
      "outputs": [
        {
          "output_type": "stream",
          "name": "stdout",
          "text": [
            "Prediction before training:\n",
            "f(5) = 9.681\n",
            "Epoch 1: w = 1.946, loss=0.03057\n",
            "Epoch 11: w = 1.989, loss=0.00118\n",
            "Epoch 21: w = 1.998, loss=0.00005\n",
            "Epoch 31: w = 2.000, loss=0.00000\n",
            "Epoch 41: w = 2.000, loss=0.00000\n",
            "Prediction after training:\n",
            "f(5) = 10.000\n"
          ]
        }
      ]
    },
    {
      "cell_type": "code",
      "source": [],
      "metadata": {
        "id": "TUuR_c93Jmdb"
      },
      "execution_count": null,
      "outputs": []
    }
  ]
}