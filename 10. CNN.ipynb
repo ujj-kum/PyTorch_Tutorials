{
  "nbformat": 4,
  "nbformat_minor": 0,
  "metadata": {
    "colab": {
      "provenance": [],
      "gpuType": "T4"
    },
    "kernelspec": {
      "name": "python3",
      "display_name": "Python 3"
    },
    "language_info": {
      "name": "python"
    },
    "accelerator": "GPU"
  },
  "cells": [
    {
      "cell_type": "code",
      "execution_count": 1,
      "metadata": {
        "id": "4dqzow0C24Xj"
      },
      "outputs": [],
      "source": [
        "import torch\n",
        "from torch.utils.data import DataLoader\n",
        "import torch.nn as nn\n",
        "import torch.nn.functional as F\n",
        "import torchvision\n",
        "import torchvision.transforms as transforms\n",
        "import numpy as np\n",
        "import matplotlib.pyplot as plt"
      ]
    },
    {
      "cell_type": "code",
      "source": [
        "device = torch.device('cuda') if torch.cuda.is_available() else 'cpu'\n",
        "print(device)"
      ],
      "metadata": {
        "colab": {
          "base_uri": "https://localhost:8080/"
        },
        "id": "VmGgscT03KwY",
        "outputId": "ed1688d8-50de-458b-da1a-e63d59134975"
      },
      "execution_count": 2,
      "outputs": [
        {
          "output_type": "stream",
          "name": "stdout",
          "text": [
            "cuda\n"
          ]
        }
      ]
    },
    {
      "cell_type": "code",
      "source": [
        "# Hyperparameters\n",
        "num_epochs = 4\n",
        "batch_size = 4\n",
        "learning_rate = 0.001\n",
        "\n",
        "# One value for each channel\n",
        "mean = [0.5, 0.5, 0.5]\n",
        "std = [0.5, 0.5, 0.5]"
      ],
      "metadata": {
        "id": "WTterthG3d-F"
      },
      "execution_count": 3,
      "outputs": []
    },
    {
      "cell_type": "code",
      "source": [
        "composed_transforms = transforms.Compose([\n",
        "    transforms.ToTensor(),\n",
        "    transforms.Normalize(mean=mean, std=std)\n",
        "])"
      ],
      "metadata": {
        "id": "-eZLuScd43L2"
      },
      "execution_count": 4,
      "outputs": []
    },
    {
      "cell_type": "markdown",
      "source": [
        "### Loading data\n",
        "\n",
        "**. =>** refers in the same folder"
      ],
      "metadata": {
        "id": "Fzj824YY5Pnd"
      }
    },
    {
      "cell_type": "code",
      "source": [
        "train_dataset = torchvision.datasets.CIFAR10(\n",
        "    root=\"./data\",\n",
        "    train=True,\n",
        "    download=True,\n",
        "    transform=composed_transforms\n",
        ")\n",
        "\n",
        "test_dataset = torchvision.datasets.CIFAR10(\n",
        "    root='./data',\n",
        "    train=False,\n",
        "    download=False,\n",
        "    transform=composed_transforms\n",
        ")"
      ],
      "metadata": {
        "colab": {
          "base_uri": "https://localhost:8080/"
        },
        "id": "V-kYaqb45St8",
        "outputId": "259411e0-a886-4963-bd3e-0572354178d8"
      },
      "execution_count": 5,
      "outputs": [
        {
          "output_type": "stream",
          "name": "stdout",
          "text": [
            "Files already downloaded and verified\n"
          ]
        }
      ]
    },
    {
      "cell_type": "markdown",
      "source": [
        "### Dataloaders"
      ],
      "metadata": {
        "id": "LeaxSHp067QN"
      }
    },
    {
      "cell_type": "code",
      "source": [
        "train_loader = DataLoader(\n",
        "    dataset=train_dataset,\n",
        "    batch_size=batch_size,\n",
        "    shuffle=True\n",
        ")\n",
        "\n",
        "test_loader = DataLoader(\n",
        "    dataset=test_dataset,\n",
        "    batch_size=batch_size,\n",
        "    shuffle=False\n",
        ")"
      ],
      "metadata": {
        "id": "z8cI1e_v56rP"
      },
      "execution_count": 6,
      "outputs": []
    },
    {
      "cell_type": "markdown",
      "source": [
        "### Visualizing data"
      ],
      "metadata": {
        "id": "LAenFiZt7ySH"
      }
    },
    {
      "cell_type": "code",
      "source": [
        "print(\"No. of Iterations/No. of batches =\", len(train_loader))\n",
        "print(type(train_loader))\n",
        "\n",
        "dataiter = iter(train_loader)\n",
        "images, labels = next(dataiter)\n",
        "print(images.shape, labels.shape) # Batch_size=4, 4 samples are available"
      ],
      "metadata": {
        "colab": {
          "base_uri": "https://localhost:8080/"
        },
        "id": "EWOJeL5V7wy9",
        "outputId": "e1c395c9-64c1-4e21-c25a-a2a848975329"
      },
      "execution_count": 7,
      "outputs": [
        {
          "output_type": "stream",
          "name": "stdout",
          "text": [
            "No. of Iterations/No. of batches = 12500\n",
            "<class 'torch.utils.data.dataloader.DataLoader'>\n",
            "torch.Size([4, 3, 32, 32]) torch.Size([4])\n"
          ]
        }
      ]
    },
    {
      "cell_type": "code",
      "source": [
        "classes = ('plane', 'car', 'bird', 'cat', 'deer', 'dog', 'frog', 'horse', 'ship', 'truck')"
      ],
      "metadata": {
        "id": "1PwpUv8b-Q5V"
      },
      "execution_count": 8,
      "outputs": []
    },
    {
      "cell_type": "code",
      "source": [
        "for i in range(4):\n",
        "    plt.subplot(1, 4, i+1)\n",
        "    plt.imshow(images[i][0])\n",
        "    item = labels[i].item()\n",
        "    plt.title(f\"{item} = {classes[item]}\", fontsize=8)\n",
        "plt.show()"
      ],
      "metadata": {
        "colab": {
          "base_uri": "https://localhost:8080/",
          "height": 184
        },
        "id": "OS5HhkVf76cU",
        "outputId": "f84098c1-4b6b-478a-9d5f-cd47ad83b1b6"
      },
      "execution_count": 9,
      "outputs": [
        {
          "output_type": "display_data",
          "data": {
            "text/plain": [
              "<Figure size 640x480 with 4 Axes>"
            ],
            "image/png": "[encoded data removed]"
          },
          "metadata": {}
        }
      ]
    },
    {
      "cell_type": "markdown",
      "source": [
        "### ConvNet model\n",
        "- **in_channels** = No. of channels in input images(3)\n",
        "- **out_channels** = No.of filters used/ No. of feature maps preoduced\n",
        "- **kernel_size** = size of the filter or kernel used for the convolution"
      ],
      "metadata": {
        "id": "FGVQKpJ6-r9F"
      }
    },
    {
      "cell_type": "code",
      "source": [
        "class ConvNet(nn.Module):\n",
        "    def __init__(self):\n",
        "        super(ConvNet, self).__init__()\n",
        "        self.conv1 = nn.Conv2d(in_channels=3, out_channels=6, kernel_size=5)\n",
        "        self.pool = nn.MaxPool2d(kernel_size=2, stride=2)\n",
        "        self.conv2 = nn.Conv2d(in_channels=6, out_channels=16, kernel_size=5)\n",
        "\n",
        "        # After passing through last conv+pool layer,\n",
        "        # Input size => (4, 16, 5, 5) where 4 is no. of samples\n",
        "        self.fc1 = nn.Linear(in_features=16*5*5, out_features = 120)\n",
        "        self.fc2 = nn.Linear(in_features=120, out_features=84)\n",
        "        self.fc3 = nn.Linear(in_features=84, out_features=10)\n",
        "\n",
        "    def forward(self, x):\n",
        "        out = F.relu(self.conv1(x))\n",
        "        out = self.pool(out)\n",
        "        out = F.relu(self.conv2(out))\n",
        "        out = self.pool(out)\n",
        "\n",
        "\n",
        "        # Flattening the layer\n",
        "        out = out.reshape(-1, 16 * 5 * 5)\n",
        "        out = F.relu(self.fc1(out))\n",
        "        out = F.relu(self.fc2(out))\n",
        "        out = self.fc3(out)\n",
        "        return out"
      ],
      "metadata": {
        "id": "TEALbjPL-qmE"
      },
      "execution_count": 10,
      "outputs": []
    },
    {
      "cell_type": "markdown",
      "source": [
        "### Model Training\n",
        "\n",
        "Here no need to reshape images because the format in which ConvNet expects input is the default shape\n",
        "\n",
        "- Original x shape = torch.Size([4, 3, 32, 32])\n",
        "- After passing through 1st Conv layer, x shape = torch.Size([4, 6, 28, 28])\n",
        "- After passing through 1st Pool layer, x shape = torch.Size([4, 6, 14, 14])\n",
        "- After passing through 2nd Conv layer, x shape = torch.Size([4, 16, 10, 10])\n",
        "- After passing through 2nd Pool layer, x shape = torch.Size([4, 16, 5, 5])"
      ],
      "metadata": {
        "id": "DLE9XLL_AtkB"
      }
    },
    {
      "cell_type": "code",
      "source": [
        "model = ConvNet().to(device)\n",
        "\n",
        "criterion = nn.CrossEntropyLoss()\n",
        "optimizer = torch.optim.Adam(params=model.parameters(), lr=learning_rate)\n",
        "\n",
        "num_batches = len(train_loader)\n",
        "\n",
        "for epoch in range(1, num_epochs+1):\n",
        "    print(\"New Epoch starts!!!!!\")\n",
        "    for batch, (images, labels) in enumerate(train_loader):\n",
        "        images = images.to(device)\n",
        "        labels = labels.to(device)\n",
        "\n",
        "        # Fwd Propagation\n",
        "        predicted = model(images)\n",
        "        # print(labels.shape, predicted.shape)\n",
        "        loss = criterion(predicted, labels)\n",
        "\n",
        "        # Backward prop\n",
        "        optimizer.zero_grad()\n",
        "        loss.backward()\n",
        "        optimizer.step()\n",
        "\n",
        "        if (batch+1)%5000==0:\n",
        "            print(f\"Epoch {epoch}/{num_epochs} Batch {batch+1}/{num_batches}, Loss = {loss.item():.4f}\")\n",
        "    print(\"#\"*100)"
      ],
      "metadata": {
        "colab": {
          "base_uri": "https://localhost:8080/"
        },
        "id": "bTWuETCs_40w",
        "outputId": "b152faa0-3a07-4d44-df8b-7711f2f6d005"
      },
      "execution_count": 11,
      "outputs": [
        {
          "output_type": "stream",
          "name": "stdout",
          "text": [
            "New Epoch starts!!!!!\n",
            "Epoch 1/4 Batch 5000/12500, Loss = 1.4706\n",
            "Epoch 1/4 Batch 10000/12500, Loss = 0.9254\n",
            "####################################################################################################\n",
            "New Epoch starts!!!!!\n",
            "Epoch 2/4 Batch 5000/12500, Loss = 0.6278\n",
            "Epoch 2/4 Batch 10000/12500, Loss = 1.4408\n",
            "####################################################################################################\n",
            "New Epoch starts!!!!!\n",
            "Epoch 3/4 Batch 5000/12500, Loss = 1.0930\n",
            "Epoch 3/4 Batch 10000/12500, Loss = 1.0420\n",
            "####################################################################################################\n",
            "New Epoch starts!!!!!\n",
            "Epoch 4/4 Batch 5000/12500, Loss = 2.7393\n",
            "Epoch 4/4 Batch 10000/12500, Loss = 0.6005\n",
            "####################################################################################################\n"
          ]
        }
      ]
    },
    {
      "cell_type": "markdown",
      "source": [
        "### Model Evaluation"
      ],
      "metadata": {
        "id": "nJ5ziYahCQp4"
      }
    },
    {
      "cell_type": "code",
      "source": [
        "# Contains no. of correct sample for each class in test set\n",
        "n_class_correct = [0 for i in range(10)]\n",
        "\n",
        "# Contains total no. of samples for each class in test set\n",
        "n_class_samples = [0 for i in range(10)]\n",
        "\n",
        "with torch.no_grad():\n",
        "    n_correct = 0\n",
        "    n_samples = 0\n",
        "    for (images, labels) in test_loader:\n",
        "        images = images.to(device)\n",
        "        labels = labels.to(device)\n",
        "\n",
        "        output = model(images)\n",
        "        _, predicted = torch.max(output, dim=1)\n",
        "        n_samples += labels.shape[0]\n",
        "        n_correct += (predicted==labels).sum().item()\n",
        "\n",
        "        for i in range(batch_size):\n",
        "            label = labels[i]\n",
        "            pred = predicted[i]\n",
        "            if label==pred:\n",
        "                n_class_correct[label]+=1\n",
        "            n_class_samples[label]+=1\n",
        "    accuracy = 100.0 * n_correct / n_samples\n",
        "    print(\"Test Accuracy = \", accuracy, \"%\")\n",
        "\n",
        "    for i in range(10):\n",
        "        accuracy = 100.0 * n_class_correct[i] / n_class_samples[i]\n",
        "        print(f\"Test Accuracy of class{i}= {accuracy}%\")"
      ],
      "metadata": {
        "colab": {
          "base_uri": "https://localhost:8080/"
        },
        "id": "RawzbWuACSJW",
        "outputId": "b6c710cf-f954-4f8c-e374-8fff525f44a4"
      },
      "execution_count": 12,
      "outputs": [
        {
          "output_type": "stream",
          "name": "stdout",
          "text": [
            "Test Accuracy =  60.79 %\n",
            "Test Accuracy of class0= 64.6%\n",
            "Test Accuracy of class1= 73.5%\n",
            "Test Accuracy of class2= 44.1%\n",
            "Test Accuracy of class3= 43.4%\n",
            "Test Accuracy of class4= 53.5%\n",
            "Test Accuracy of class5= 48.7%\n",
            "Test Accuracy of class6= 66.5%\n",
            "Test Accuracy of class7= 74.3%\n",
            "Test Accuracy of class8= 70.4%\n",
            "Test Accuracy of class9= 68.9%\n"
          ]
        }
      ]
    },
    {
      "cell_type": "code",
      "source": [],
      "metadata": {
        "id": "cgmhvOoYSDxr"
      },
      "execution_count": 12,
      "outputs": []
    }
  ]
}